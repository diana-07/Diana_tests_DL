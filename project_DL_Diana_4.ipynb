{
  "nbformat": 4,
  "nbformat_minor": 0,
  "metadata": {
    "colab": {
      "provenance": [],
      "gpuType": "T4",
      "authorship_tag": "ABX9TyMsJSn50pnA4/md7gU6WbYP",
      "include_colab_link": true
    },
    "kernelspec": {
      "name": "python3",
      "display_name": "Python 3"
    },
    "language_info": {
      "name": "python"
    },
    "accelerator": "GPU"
  },
  "cells": [
    {
      "cell_type": "markdown",
      "metadata": {
        "id": "view-in-github",
        "colab_type": "text"
      },
      "source": [
        "<a href=\"https://colab.research.google.com/github/diana-07/Diana_tests_DL/blob/main/project_DL_Diana_3.ipynb\" target=\"_parent\"><img src=\"https://colab.research.google.com/assets/colab-badge.svg\" alt=\"Open In Colab\"/></a>"
      ]
    },
    {
      "cell_type": "code",
      "source": [
        "# #eliminar pasta dataset caso seja necessário\n",
        "# import shutil\n",
        "# import os\n",
        "\n",
        "# os.chdir('/content')\n",
        "# print(os.getcwd())\n",
        "\n",
        "# # Caminho para a pasta a apagar\n",
        "# dir_path = \"dataset\"\n",
        "\n",
        "# # Só apaga se existir\n",
        "# if os.path.exists(dir_path):\n",
        "#     shutil.rmtree(dir_path)\n",
        "#     print(f\"Pasta '{dir_path}' apagada com sucesso.\")\n",
        "# else:\n",
        "#     print(f\"Pasta '{dir_path}' não existe.\")\n"
      ],
      "metadata": {
        "id": "WCpq0-QwjRxv"
      },
      "execution_count": 1,
      "outputs": []
    },
    {
      "cell_type": "code",
      "source": [
        "import os\n",
        "import shutil\n",
        "import sys\n",
        "\n",
        "#IMPORTANTE: BAIXAR ANTES O FICHEIRO prepare_data.py\n",
        "\n",
        "# 1. Remover pasta 'dataset' se já existir\n",
        "if os.path.exists(\"dataset\"):\n",
        "    shutil.rmtree(\"dataset\")\n",
        "    print(\"Pasta 'dataset' removida.\")\n",
        "\n",
        "# 2. Clonar o repositório com checkout parcial\n",
        "os.system(\"git clone --filter=blob:none --no-checkout https://github.com/THETIS-dataset/dataset.git\")\n",
        "\n",
        "# 3. Entrar na pasta 'dataset' e configurar checkout parcial\n",
        "os.chdir(\"dataset\")\n",
        "os.system(\"git sparse-checkout init --cone\")\n",
        "os.system(\"git sparse-checkout set VIDEO_Skelet3D\")\n",
        "os.system(\"git checkout\")\n",
        "print(\"Clone e checkout parcial concluídos.\")\n",
        "\n",
        "# 4. Voltar ao diretório anterior\n",
        "os.chdir(\"..\")\n",
        "\n",
        "\n",
        "# 5. Procurar prepare_data.py fora da pasta 'dataset'\n",
        "nome_arquivo = \"prepare_data.py\"\n",
        "caminho_encontrado = None\n",
        "\n",
        "for raiz, dirs, arquivos in os.walk(\".\"):\n",
        "    if nome_arquivo in arquivos and \"dataset\" not in raiz:\n",
        "        caminho_encontrado = os.path.join(raiz, nome_arquivo)\n",
        "        break\n",
        "\n",
        "# 6. Mover o prepare_data.py para dentro de 'dataset'\n",
        "if caminho_encontrado:\n",
        "    destino_final = os.path.join(\"dataset\", nome_arquivo)\n",
        "    shutil.move(caminho_encontrado, destino_final)\n",
        "    print(f\"{nome_arquivo} movido para a pasta 'dataset'.\")\n",
        "else:\n",
        "    print(f\"Arquivo {nome_arquivo} não encontrado fora da pasta 'dataset'.\")\n",
        "\n",
        "# 7. Adicionar 'dataset' ao sys.path para permitir importações\n",
        "dataset_path = os.path.abspath(\"dataset\")\n",
        "if dataset_path not in sys.path:\n",
        "    sys.path.append(dataset_path)\n",
        "\n",
        "# 8. Agora já podes importar a função\n",
        "try:\n",
        "    from prepare_data import collect_by_players\n",
        "    from prepare_data import pad_or_truncate_keypoints\n",
        "    from prepare_data import extract_player_id\n",
        "    print(\"Importação bem-sucedida.\")\n",
        "except ImportError as e:\n",
        "    print(\"Erro ao importar função:\", e)\n",
        "\n",
        "\n",
        "\n",
        "\n"
      ],
      "metadata": {
        "colab": {
          "base_uri": "https://localhost:8080/"
        },
        "id": "XKSs2FkWoFD6",
        "outputId": "77f89efc-d140-4c8a-8dfc-42e627aa48bb"
      },
      "execution_count": 2,
      "outputs": [
        {
          "output_type": "stream",
          "name": "stdout",
          "text": [
            "Pasta 'dataset' removida.\n",
            "Clone e checkout parcial concluídos.\n",
            "prepare_data.py movido para a pasta 'dataset'.\n",
            "Importação bem-sucedida.\n"
          ]
        }
      ]
    },
    {
      "cell_type": "code",
      "execution_count": 3,
      "metadata": {
        "collapsed": true,
        "id": "JVJwkVEpqVI0"
      },
      "outputs": [],
      "source": [
        "import os\n",
        "import cv2\n",
        "import torch\n",
        "import numpy as np\n",
        "from tqdm import tqdm\n",
        "from collections import defaultdict\n",
        "from sklearn.model_selection import train_test_split\n",
        "import random\n",
        "import pickle\n",
        "\n",
        "# from prepare_data import pad_or_truncate_keypoints\n",
        "# from prepare_data import extract_player_id\n"
      ]
    },
    {
      "cell_type": "code",
      "source": [
        "!pip uninstall -y mediapipe-silicon\n",
        "!pip uninstall -y mediapipe\n",
        "!pip uninstall -y protobuf\n",
        "!pip install protobuf==3.20.3  # Specific version that often works well with MediaPipe\n",
        "!pip install mediapipe"
      ],
      "metadata": {
        "colab": {
          "base_uri": "https://localhost:8080/",
          "height": 1000
        },
        "collapsed": true,
        "id": "vH6Bd75BvpqR",
        "outputId": "1cf56ce9-97f0-45e6-c552-b11a1f524124"
      },
      "execution_count": 4,
      "outputs": [
        {
          "output_type": "stream",
          "name": "stdout",
          "text": [
            "\u001b[33mWARNING: Skipping mediapipe-silicon as it is not installed.\u001b[0m\u001b[33m\n",
            "\u001b[0mFound existing installation: mediapipe 0.10.21\n",
            "Uninstalling mediapipe-0.10.21:\n",
            "  Successfully uninstalled mediapipe-0.10.21\n",
            "Found existing installation: protobuf 4.25.7\n",
            "Uninstalling protobuf-4.25.7:\n",
            "  Successfully uninstalled protobuf-4.25.7\n",
            "Collecting protobuf==3.20.3\n",
            "  Using cached protobuf-3.20.3-py2.py3-none-any.whl.metadata (720 bytes)\n",
            "Using cached protobuf-3.20.3-py2.py3-none-any.whl (162 kB)\n",
            "Installing collected packages: protobuf\n",
            "\u001b[31mERROR: pip's dependency resolver does not currently take into account all the packages that are installed. This behaviour is the source of the following dependency conflicts.\n",
            "tensorflow-metadata 1.17.1 requires protobuf<6.0.0,>=4.25.2; python_version >= \"3.11\", but you have protobuf 3.20.3 which is incompatible.\n",
            "grpcio-status 1.71.0 requires protobuf<6.0dev,>=5.26.1, but you have protobuf 3.20.3 which is incompatible.\n",
            "ydf 0.11.0 requires protobuf<6.0.0,>=5.29.1, but you have protobuf 3.20.3 which is incompatible.\u001b[0m\u001b[31m\n",
            "\u001b[0mSuccessfully installed protobuf-3.20.3\n"
          ]
        },
        {
          "output_type": "display_data",
          "data": {
            "application/vnd.colab-display-data+json": {
              "pip_warning": {
                "packages": [
                  "google"
                ]
              },
              "id": "54d7d390892c438d990bd2e4417de919"
            }
          },
          "metadata": {}
        },
        {
          "output_type": "stream",
          "name": "stdout",
          "text": [
            "Collecting mediapipe\n",
            "  Using cached mediapipe-0.10.21-cp311-cp311-manylinux_2_28_x86_64.whl.metadata (9.7 kB)\n",
            "Requirement already satisfied: absl-py in /usr/local/lib/python3.11/dist-packages (from mediapipe) (1.4.0)\n",
            "Requirement already satisfied: attrs>=19.1.0 in /usr/local/lib/python3.11/dist-packages (from mediapipe) (25.3.0)\n",
            "Requirement already satisfied: flatbuffers>=2.0 in /usr/local/lib/python3.11/dist-packages (from mediapipe) (25.2.10)\n",
            "Requirement already satisfied: jax in /usr/local/lib/python3.11/dist-packages (from mediapipe) (0.5.2)\n",
            "Requirement already satisfied: jaxlib in /usr/local/lib/python3.11/dist-packages (from mediapipe) (0.5.1)\n",
            "Requirement already satisfied: matplotlib in /usr/local/lib/python3.11/dist-packages (from mediapipe) (3.10.0)\n",
            "Requirement already satisfied: numpy<2 in /usr/local/lib/python3.11/dist-packages (from mediapipe) (1.26.4)\n",
            "Requirement already satisfied: opencv-contrib-python in /usr/local/lib/python3.11/dist-packages (from mediapipe) (4.11.0.86)\n",
            "Collecting protobuf<5,>=4.25.3 (from mediapipe)\n",
            "  Using cached protobuf-4.25.7-cp37-abi3-manylinux2014_x86_64.whl.metadata (541 bytes)\n",
            "Requirement already satisfied: sounddevice>=0.4.4 in /usr/local/lib/python3.11/dist-packages (from mediapipe) (0.5.1)\n",
            "Requirement already satisfied: sentencepiece in /usr/local/lib/python3.11/dist-packages (from mediapipe) (0.2.0)\n",
            "Requirement already satisfied: CFFI>=1.0 in /usr/local/lib/python3.11/dist-packages (from sounddevice>=0.4.4->mediapipe) (1.17.1)\n",
            "Requirement already satisfied: ml_dtypes>=0.4.0 in /usr/local/lib/python3.11/dist-packages (from jax->mediapipe) (0.4.1)\n",
            "Requirement already satisfied: opt_einsum in /usr/local/lib/python3.11/dist-packages (from jax->mediapipe) (3.4.0)\n",
            "Requirement already satisfied: scipy>=1.11.1 in /usr/local/lib/python3.11/dist-packages (from jax->mediapipe) (1.15.2)\n",
            "Requirement already satisfied: contourpy>=1.0.1 in /usr/local/lib/python3.11/dist-packages (from matplotlib->mediapipe) (1.3.2)\n",
            "Requirement already satisfied: cycler>=0.10 in /usr/local/lib/python3.11/dist-packages (from matplotlib->mediapipe) (0.12.1)\n",
            "Requirement already satisfied: fonttools>=4.22.0 in /usr/local/lib/python3.11/dist-packages (from matplotlib->mediapipe) (4.57.0)\n",
            "Requirement already satisfied: kiwisolver>=1.3.1 in /usr/local/lib/python3.11/dist-packages (from matplotlib->mediapipe) (1.4.8)\n",
            "Requirement already satisfied: packaging>=20.0 in /usr/local/lib/python3.11/dist-packages (from matplotlib->mediapipe) (24.2)\n",
            "Requirement already satisfied: pillow>=8 in /usr/local/lib/python3.11/dist-packages (from matplotlib->mediapipe) (11.2.1)\n",
            "Requirement already satisfied: pyparsing>=2.3.1 in /usr/local/lib/python3.11/dist-packages (from matplotlib->mediapipe) (3.2.3)\n",
            "Requirement already satisfied: python-dateutil>=2.7 in /usr/local/lib/python3.11/dist-packages (from matplotlib->mediapipe) (2.9.0.post0)\n",
            "Requirement already satisfied: pycparser in /usr/local/lib/python3.11/dist-packages (from CFFI>=1.0->sounddevice>=0.4.4->mediapipe) (2.22)\n",
            "Requirement already satisfied: six>=1.5 in /usr/local/lib/python3.11/dist-packages (from python-dateutil>=2.7->matplotlib->mediapipe) (1.17.0)\n",
            "Using cached mediapipe-0.10.21-cp311-cp311-manylinux_2_28_x86_64.whl (35.6 MB)\n",
            "Using cached protobuf-4.25.7-cp37-abi3-manylinux2014_x86_64.whl (294 kB)\n",
            "Installing collected packages: protobuf, mediapipe\n",
            "  Attempting uninstall: protobuf\n",
            "    Found existing installation: protobuf 3.20.3\n",
            "    Uninstalling protobuf-3.20.3:\n",
            "      Successfully uninstalled protobuf-3.20.3\n",
            "\u001b[31mERROR: pip's dependency resolver does not currently take into account all the packages that are installed. This behaviour is the source of the following dependency conflicts.\n",
            "grpcio-status 1.71.0 requires protobuf<6.0dev,>=5.26.1, but you have protobuf 4.25.7 which is incompatible.\n",
            "ydf 0.11.0 requires protobuf<6.0.0,>=5.29.1, but you have protobuf 4.25.7 which is incompatible.\u001b[0m\u001b[31m\n",
            "\u001b[0mSuccessfully installed mediapipe-0.10.21 protobuf-4.25.7\n"
          ]
        }
      ]
    },
    {
      "cell_type": "code",
      "source": [
        "import mediapipe as mp\n"
      ],
      "metadata": {
        "id": "aeZtH0LdvfS7"
      },
      "execution_count": 5,
      "outputs": []
    },
    {
      "cell_type": "code",
      "source": [
        "%cd dataset\n",
        "!python prepare_data.py"
      ],
      "metadata": {
        "colab": {
          "base_uri": "https://localhost:8080/"
        },
        "id": "FdHfOrr3azB6",
        "outputId": "51ca5018-dbe5-4edd-f691-8fed6076ddc5"
      },
      "execution_count": 6,
      "outputs": [
        {
          "output_type": "stream",
          "name": "stdout",
          "text": [
            "/content/dataset\n",
            "CUDA available: True\n",
            "Device name: Tesla T4\n",
            "['backhand_slice', 'forehand_openstands', 'forehand_flat', 'kick_service', 'flat_service', 'backhand_volley', 'backhand', 'smash', 'slice_service', 'forehand_slice', 'forehand_volley', 'backhand2hands']\n",
            "Fim da execução do prepare_data.py\n"
          ]
        }
      ]
    },
    {
      "cell_type": "code",
      "source": [
        "\n",
        "#extract the keypoints AND pad/truncate\n",
        "\n",
        "root_dir = \"npy_videos\"\n",
        "\n",
        "mp_pose = mp.solutions.pose\n",
        "pose = mp_pose.Pose(static_image_mode=False) # This allows MediaPipe to track pose across frames, potentially leading to more stable and accurate keypoint estimations.\n",
        "\n",
        "all_keypoints = {}\n",
        "\n",
        "# Top-level loop with a single progress bar\n",
        "action_folders = sorted([d for d in os.listdir(root_dir) if os.path.isdir(os.path.join(root_dir, d))])\n",
        "for action_folder in tqdm(action_folders, desc=\"Processing actions\"):\n",
        "    action_path = os.path.join(root_dir, action_folder)\n",
        "    all_keypoints[action_folder] = {}\n",
        "\n",
        "    video_files = sorted([f for f in os.listdir(action_path) if f.endswith(\".npy\")])\n",
        "    for video_file in video_files:  # No tqdm here\n",
        "        video_path = os.path.join(action_path, video_file)\n",
        "        try:\n",
        "            sample = np.load(video_path)\n",
        "            video_keypoints = []\n",
        "\n",
        "            for frame in sample:\n",
        "                frame_rgb = cv2.cvtColor(frame, cv2.COLOR_BGR2RGB)\n",
        "                results = pose.process(frame_rgb)\n",
        "\n",
        "                if results.pose_landmarks:\n",
        "                    keypoints = [[lm.x, lm.y, lm.z] for lm in results.pose_landmarks.landmark]\n",
        "                else:\n",
        "                    keypoints = np.zeros((33, 3)).tolist()\n",
        "\n",
        "                video_keypoints.append(keypoints)\n",
        "\n",
        "            video_keypoints = np.array(video_keypoints)\n",
        "            video_keypoints = pad_or_truncate_keypoints(video_keypoints, target_length=120)\n",
        "            all_keypoints[action_folder][video_file] = video_keypoints\n",
        "\n",
        "\n",
        "\n",
        "\n",
        "\n",
        "        except Exception as e:\n",
        "            pass  # Suppress per-video error printing for a clean log\n",
        "\n",
        "# Final summary\n",
        "print(\"\\n Summary of extracted keypoints:\")\n",
        "for action, videos in all_keypoints.items():\n",
        "    print(f\"- {action}: {len(videos)} videos processed.\")\n",
        "\n",
        "# Jsut to see the calues for the first one\n",
        "first_action = list(all_keypoints.keys())[0]\n",
        "first_video = list(all_keypoints[first_action].keys())[0]\n",
        "print(f\"Keypoints for the first frame of {first_video} in {first_action}:\")\n",
        "print(all_keypoints[first_action][first_video][0])\n",
        "\n",
        "print('----')\n",
        "\n",
        "frame_idx = 10  # ou qualquer outro frame entre 0 e 119 (porque truncas para 120)\n",
        "print(f\"Keypoints para o frame {frame_idx} do vídeo {first_video} ({first_action}):\")\n",
        "print(all_keypoints[first_action][first_video][frame_idx])\n",
        "\n",
        "print()\n",
        "\n",
        "# Por exemplo, mostrar todos os pontos do frame 10\n",
        "for i, (x, y, z) in enumerate(all_keypoints[first_action][first_video][frame_idx]):\n",
        "    print(f\"  Ponto {i:2d}: x={x:.3f}, y={y:.3f}, z={z:.3f}\")\n",
        "\n"
      ],
      "metadata": {
        "colab": {
          "base_uri": "https://localhost:8080/"
        },
        "collapsed": true,
        "id": "9DvBd7_WbBg9",
        "outputId": "8082a8b8-1d07-4156-b909-28dcb7d3e19c"
      },
      "execution_count": 7,
      "outputs": [
        {
          "output_type": "stream",
          "name": "stderr",
          "text": [
            "Processing actions: 100%|██████████| 12/12 [23:27<00:00, 117.28s/it]"
          ]
        },
        {
          "output_type": "stream",
          "name": "stdout",
          "text": [
            "\n",
            " Summary of extracted keypoints:\n",
            "- backhand: 97 videos processed.\n",
            "- backhand2hands: 107 videos processed.\n",
            "- backhand_slice: 100 videos processed.\n",
            "- backhand_volley: 103 videos processed.\n",
            "- flat_service: 96 videos processed.\n",
            "- forehand_flat: 110 videos processed.\n",
            "- forehand_openstands: 101 videos processed.\n",
            "- forehand_slice: 97 videos processed.\n",
            "- forehand_volley: 93 videos processed.\n",
            "- kick_service: 109 videos processed.\n",
            "- slice_service: 100 videos processed.\n",
            "- smash: 104 videos processed.\n",
            "Keypoints for the first frame of p10_backhand_skelet3D_s2.npy in backhand:\n",
            "[[0. 0. 0.]\n",
            " [0. 0. 0.]\n",
            " [0. 0. 0.]\n",
            " [0. 0. 0.]\n",
            " [0. 0. 0.]\n",
            " [0. 0. 0.]\n",
            " [0. 0. 0.]\n",
            " [0. 0. 0.]\n",
            " [0. 0. 0.]\n",
            " [0. 0. 0.]\n",
            " [0. 0. 0.]\n",
            " [0. 0. 0.]\n",
            " [0. 0. 0.]\n",
            " [0. 0. 0.]\n",
            " [0. 0. 0.]\n",
            " [0. 0. 0.]\n",
            " [0. 0. 0.]\n",
            " [0. 0. 0.]\n",
            " [0. 0. 0.]\n",
            " [0. 0. 0.]\n",
            " [0. 0. 0.]\n",
            " [0. 0. 0.]\n",
            " [0. 0. 0.]\n",
            " [0. 0. 0.]\n",
            " [0. 0. 0.]\n",
            " [0. 0. 0.]\n",
            " [0. 0. 0.]\n",
            " [0. 0. 0.]\n",
            " [0. 0. 0.]\n",
            " [0. 0. 0.]\n",
            " [0. 0. 0.]\n",
            " [0. 0. 0.]\n",
            " [0. 0. 0.]]\n",
            "----\n",
            "Keypoints para o frame 10 do vídeo p10_backhand_skelet3D_s2.npy (backhand):\n",
            "[[0. 0. 0.]\n",
            " [0. 0. 0.]\n",
            " [0. 0. 0.]\n",
            " [0. 0. 0.]\n",
            " [0. 0. 0.]\n",
            " [0. 0. 0.]\n",
            " [0. 0. 0.]\n",
            " [0. 0. 0.]\n",
            " [0. 0. 0.]\n",
            " [0. 0. 0.]\n",
            " [0. 0. 0.]\n",
            " [0. 0. 0.]\n",
            " [0. 0. 0.]\n",
            " [0. 0. 0.]\n",
            " [0. 0. 0.]\n",
            " [0. 0. 0.]\n",
            " [0. 0. 0.]\n",
            " [0. 0. 0.]\n",
            " [0. 0. 0.]\n",
            " [0. 0. 0.]\n",
            " [0. 0. 0.]\n",
            " [0. 0. 0.]\n",
            " [0. 0. 0.]\n",
            " [0. 0. 0.]\n",
            " [0. 0. 0.]\n",
            " [0. 0. 0.]\n",
            " [0. 0. 0.]\n",
            " [0. 0. 0.]\n",
            " [0. 0. 0.]\n",
            " [0. 0. 0.]\n",
            " [0. 0. 0.]\n",
            " [0. 0. 0.]\n",
            " [0. 0. 0.]]\n",
            "\n",
            "  Ponto  0: x=0.000, y=0.000, z=0.000\n",
            "  Ponto  1: x=0.000, y=0.000, z=0.000\n",
            "  Ponto  2: x=0.000, y=0.000, z=0.000\n",
            "  Ponto  3: x=0.000, y=0.000, z=0.000\n",
            "  Ponto  4: x=0.000, y=0.000, z=0.000\n",
            "  Ponto  5: x=0.000, y=0.000, z=0.000\n",
            "  Ponto  6: x=0.000, y=0.000, z=0.000\n",
            "  Ponto  7: x=0.000, y=0.000, z=0.000\n",
            "  Ponto  8: x=0.000, y=0.000, z=0.000\n",
            "  Ponto  9: x=0.000, y=0.000, z=0.000\n",
            "  Ponto 10: x=0.000, y=0.000, z=0.000\n",
            "  Ponto 11: x=0.000, y=0.000, z=0.000\n",
            "  Ponto 12: x=0.000, y=0.000, z=0.000\n",
            "  Ponto 13: x=0.000, y=0.000, z=0.000\n",
            "  Ponto 14: x=0.000, y=0.000, z=0.000\n",
            "  Ponto 15: x=0.000, y=0.000, z=0.000\n",
            "  Ponto 16: x=0.000, y=0.000, z=0.000\n",
            "  Ponto 17: x=0.000, y=0.000, z=0.000\n",
            "  Ponto 18: x=0.000, y=0.000, z=0.000\n",
            "  Ponto 19: x=0.000, y=0.000, z=0.000\n",
            "  Ponto 20: x=0.000, y=0.000, z=0.000\n",
            "  Ponto 21: x=0.000, y=0.000, z=0.000\n",
            "  Ponto 22: x=0.000, y=0.000, z=0.000\n",
            "  Ponto 23: x=0.000, y=0.000, z=0.000\n",
            "  Ponto 24: x=0.000, y=0.000, z=0.000\n",
            "  Ponto 25: x=0.000, y=0.000, z=0.000\n",
            "  Ponto 26: x=0.000, y=0.000, z=0.000\n",
            "  Ponto 27: x=0.000, y=0.000, z=0.000\n",
            "  Ponto 28: x=0.000, y=0.000, z=0.000\n",
            "  Ponto 29: x=0.000, y=0.000, z=0.000\n",
            "  Ponto 30: x=0.000, y=0.000, z=0.000\n",
            "  Ponto 31: x=0.000, y=0.000, z=0.000\n",
            "  Ponto 32: x=0.000, y=0.000, z=0.000\n"
          ]
        },
        {
          "output_type": "stream",
          "name": "stderr",
          "text": [
            "\n"
          ]
        }
      ]
    },
    {
      "cell_type": "code",
      "source": [
        "#Organize videos by player and split player IDs\n",
        "\n",
        "# Organize videos by player\n",
        "player_video_map = defaultdict(list)\n",
        "for action, videos in all_keypoints.items():\n",
        "    for video_file in videos:\n",
        "        player_id = extract_player_id(video_file)\n",
        "        player_video_map[player_id].append((action, video_file))\n",
        "\n",
        "# Split player IDs\n",
        "players = list(player_video_map.keys())\n",
        "random.shuffle(players)\n",
        "\n",
        "train_end = int(len(players) * 0.7)\n",
        "val_end = int(len(players) * 0.85)\n",
        "\n",
        "train_players = players[:train_end]\n",
        "val_players = players[train_end:val_end]\n",
        "test_players = players[val_end:]\n",
        "\n",
        "train_set = collect_by_players(train_players, player_video_map, all_keypoints)\n",
        "val_set = collect_by_players(val_players,  player_video_map, all_keypoints)\n",
        "test_set = collect_by_players(test_players,  player_video_map, all_keypoints)\n",
        "\n",
        "print(f\"Train: {len(train_set)}, Val: {len(val_set)}, Test: {len(test_set)}\")"
      ],
      "metadata": {
        "colab": {
          "base_uri": "https://localhost:8080/"
        },
        "id": "ic4XG4QWFKZ6",
        "outputId": "312bafc6-61fa-4e34-d3ee-cd0af5a0e8e6"
      },
      "execution_count": 8,
      "outputs": [
        {
          "output_type": "stream",
          "name": "stdout",
          "text": [
            "Train: 822, Val: 183, Test: 212\n"
          ]
        }
      ]
    },
    {
      "cell_type": "code",
      "source": [
        "# Guardar cada conjunto em ficheiro .pkl\n",
        "with open('train_set.pkl', 'wb') as f:\n",
        "    pickle.dump(train_set, f)\n",
        "with open('val_set.pkl', 'wb') as f:\n",
        "    pickle.dump(val_set, f)\n",
        "with open('test_set.pkl', 'wb') as f:\n",
        "    pickle.dump(test_set, f)"
      ],
      "metadata": {
        "id": "CA-BvCG3UaMD"
      },
      "execution_count": 17,
      "outputs": []
    },
    {
      "cell_type": "code",
      "source": [
        "#  Usar biblioteca MMAction2\n",
        "\n",
        "# guardar os pesos treinados no dataset Kinetics400 numa variavel\n",
        "#pretrained='https://download.openmmlab.com/mmaction/stgcn/stgcn_50-pyslowfast-kinetics400-pretrained.pth'\n",
        "\n",
        "#modelo\n",
        "# Criar automaticamente o modelo ST-GCN-50\n",
        "# carrega pesos pre-treinados\n",
        "# considera o número de classes do projeto\n",
        "# model = dict(\n",
        "#     type='STGCN',\n",
        "#     backbone=dict(\n",
        "#         type='STGCN',\n",
        "#         graph_cfg=dict(layout='openpose', mode='spatial'),\n",
        "#         pretrained= pretrained # Checkpoint pré-treinado\n",
        "#     ),\n",
        "#     cls_head=dict(type='STGCNHead', num_classes=12, in_channels=256)\n",
        "# )\n",
        "\n"
      ],
      "metadata": {
        "id": "PiqOghiJOin7"
      },
      "execution_count": 10,
      "outputs": []
    },
    {
      "cell_type": "code",
      "source": [
        "# definir os dados de treino, validação e teste\n",
        "# files no formato .pkl com keypoints: (N, C, T, V, M) e labels.\n",
        "\n",
        "# data = dict(\n",
        "#     train=dict(ann_file='train_set.pkl'),\n",
        "#     val=dict(ann_file='val_set.pkl'),\n",
        "#     test=dict(ann_file='test_set.pkl')\n",
        "# )"
      ],
      "metadata": {
        "colab": {
          "base_uri": "https://localhost:8080/"
        },
        "id": "VGN-GbyDFOH1",
        "outputId": "26e015b7-15f6-4640-e1f4-9f770280d670"
      },
      "execution_count": 13,
      "outputs": [
        {
          "output_type": "execute_result",
          "data": {
            "text/plain": [
              "{'train': {'ann_file': 'train_set.pkl'},\n",
              " 'val': {'ann_file': 'val_set.pkl'},\n",
              " 'test': {'ann_file': 'test_set.pkl'}}"
            ]
          },
          "metadata": {},
          "execution_count": 13
        }
      ]
    },
    {
      "cell_type": "code",
      "source": [
        "# Clonar e entrar no diretório\n",
        "!git clone https://github.com/open-mmlab/mmaction2.git\n",
        "%cd mmaction2\n",
        "\n",
        "# Instalar dependências\n",
        "!pip install -r requirements/build.txt\n",
        "!pip install -v -e .\n",
        "\n",
        "# Verifica se tools/train.py existe\n",
        "!ls tools/train.py\n",
        "\n"
      ],
      "metadata": {
        "colab": {
          "base_uri": "https://localhost:8080/",
          "height": 1000
        },
        "id": "g2r8y9XLaizA",
        "outputId": "e111fb67-8250-4eb5-8d99-56412e3904c5"
      },
      "execution_count": 14,
      "outputs": [
        {
          "output_type": "stream",
          "name": "stdout",
          "text": [
            "Cloning into 'mmaction2'...\n",
            "remote: Enumerating objects: 22864, done.\u001b[K\n",
            "remote: Total 22864 (delta 0), reused 0 (delta 0), pack-reused 22864 (from 1)\u001b[K\n",
            "Receiving objects: 100% (22864/22864), 69.65 MiB | 26.06 MiB/s, done.\n",
            "Resolving deltas: 100% (16122/16122), done.\n",
            "/content/dataset/mmaction2\n",
            "Collecting decord>=0.4.1 (from -r requirements/build.txt (line 1))\n",
            "  Downloading decord-0.6.0-py3-none-manylinux2010_x86_64.whl.metadata (422 bytes)\n",
            "Requirement already satisfied: einops in /usr/local/lib/python3.11/dist-packages (from -r requirements/build.txt (line 2)) (0.8.1)\n",
            "Requirement already satisfied: matplotlib in /usr/local/lib/python3.11/dist-packages (from -r requirements/build.txt (line 3)) (3.10.0)\n",
            "Requirement already satisfied: numpy in /usr/local/lib/python3.11/dist-packages (from -r requirements/build.txt (line 4)) (1.26.4)\n",
            "Requirement already satisfied: opencv-contrib-python in /usr/local/lib/python3.11/dist-packages (from -r requirements/build.txt (line 5)) (4.11.0.86)\n",
            "Requirement already satisfied: Pillow in /usr/local/lib/python3.11/dist-packages (from -r requirements/build.txt (line 6)) (11.2.1)\n",
            "Requirement already satisfied: scipy in /usr/local/lib/python3.11/dist-packages (from -r requirements/build.txt (line 7)) (1.15.2)\n",
            "Requirement already satisfied: torch>=1.3 in /usr/local/lib/python3.11/dist-packages (from -r requirements/build.txt (line 8)) (2.6.0+cu124)\n",
            "Requirement already satisfied: contourpy>=1.0.1 in /usr/local/lib/python3.11/dist-packages (from matplotlib->-r requirements/build.txt (line 3)) (1.3.2)\n",
            "Requirement already satisfied: cycler>=0.10 in /usr/local/lib/python3.11/dist-packages (from matplotlib->-r requirements/build.txt (line 3)) (0.12.1)\n",
            "Requirement already satisfied: fonttools>=4.22.0 in /usr/local/lib/python3.11/dist-packages (from matplotlib->-r requirements/build.txt (line 3)) (4.57.0)\n",
            "Requirement already satisfied: kiwisolver>=1.3.1 in /usr/local/lib/python3.11/dist-packages (from matplotlib->-r requirements/build.txt (line 3)) (1.4.8)\n",
            "Requirement already satisfied: packaging>=20.0 in /usr/local/lib/python3.11/dist-packages (from matplotlib->-r requirements/build.txt (line 3)) (24.2)\n",
            "Requirement already satisfied: pyparsing>=2.3.1 in /usr/local/lib/python3.11/dist-packages (from matplotlib->-r requirements/build.txt (line 3)) (3.2.3)\n",
            "Requirement already satisfied: python-dateutil>=2.7 in /usr/local/lib/python3.11/dist-packages (from matplotlib->-r requirements/build.txt (line 3)) (2.9.0.post0)\n",
            "Requirement already satisfied: filelock in /usr/local/lib/python3.11/dist-packages (from torch>=1.3->-r requirements/build.txt (line 8)) (3.18.0)\n",
            "Requirement already satisfied: typing-extensions>=4.10.0 in /usr/local/lib/python3.11/dist-packages (from torch>=1.3->-r requirements/build.txt (line 8)) (4.13.2)\n",
            "Requirement already satisfied: networkx in /usr/local/lib/python3.11/dist-packages (from torch>=1.3->-r requirements/build.txt (line 8)) (3.4.2)\n",
            "Requirement already satisfied: jinja2 in /usr/local/lib/python3.11/dist-packages (from torch>=1.3->-r requirements/build.txt (line 8)) (3.1.6)\n",
            "Requirement already satisfied: fsspec in /usr/local/lib/python3.11/dist-packages (from torch>=1.3->-r requirements/build.txt (line 8)) (2025.3.2)\n",
            "Collecting nvidia-cuda-nvrtc-cu12==12.4.127 (from torch>=1.3->-r requirements/build.txt (line 8))\n",
            "  Downloading nvidia_cuda_nvrtc_cu12-12.4.127-py3-none-manylinux2014_x86_64.whl.metadata (1.5 kB)\n",
            "Collecting nvidia-cuda-runtime-cu12==12.4.127 (from torch>=1.3->-r requirements/build.txt (line 8))\n",
            "  Downloading nvidia_cuda_runtime_cu12-12.4.127-py3-none-manylinux2014_x86_64.whl.metadata (1.5 kB)\n",
            "Collecting nvidia-cuda-cupti-cu12==12.4.127 (from torch>=1.3->-r requirements/build.txt (line 8))\n",
            "  Downloading nvidia_cuda_cupti_cu12-12.4.127-py3-none-manylinux2014_x86_64.whl.metadata (1.6 kB)\n",
            "Collecting nvidia-cudnn-cu12==9.1.0.70 (from torch>=1.3->-r requirements/build.txt (line 8))\n",
            "  Downloading nvidia_cudnn_cu12-9.1.0.70-py3-none-manylinux2014_x86_64.whl.metadata (1.6 kB)\n",
            "Collecting nvidia-cublas-cu12==12.4.5.8 (from torch>=1.3->-r requirements/build.txt (line 8))\n",
            "  Downloading nvidia_cublas_cu12-12.4.5.8-py3-none-manylinux2014_x86_64.whl.metadata (1.5 kB)\n",
            "Collecting nvidia-cufft-cu12==11.2.1.3 (from torch>=1.3->-r requirements/build.txt (line 8))\n",
            "  Downloading nvidia_cufft_cu12-11.2.1.3-py3-none-manylinux2014_x86_64.whl.metadata (1.5 kB)\n",
            "Collecting nvidia-curand-cu12==10.3.5.147 (from torch>=1.3->-r requirements/build.txt (line 8))\n",
            "  Downloading nvidia_curand_cu12-10.3.5.147-py3-none-manylinux2014_x86_64.whl.metadata (1.5 kB)\n",
            "Collecting nvidia-cusolver-cu12==11.6.1.9 (from torch>=1.3->-r requirements/build.txt (line 8))\n",
            "  Downloading nvidia_cusolver_cu12-11.6.1.9-py3-none-manylinux2014_x86_64.whl.metadata (1.6 kB)\n",
            "Collecting nvidia-cusparse-cu12==12.3.1.170 (from torch>=1.3->-r requirements/build.txt (line 8))\n",
            "  Downloading nvidia_cusparse_cu12-12.3.1.170-py3-none-manylinux2014_x86_64.whl.metadata (1.6 kB)\n",
            "Requirement already satisfied: nvidia-cusparselt-cu12==0.6.2 in /usr/local/lib/python3.11/dist-packages (from torch>=1.3->-r requirements/build.txt (line 8)) (0.6.2)\n",
            "Requirement already satisfied: nvidia-nccl-cu12==2.21.5 in /usr/local/lib/python3.11/dist-packages (from torch>=1.3->-r requirements/build.txt (line 8)) (2.21.5)\n",
            "Requirement already satisfied: nvidia-nvtx-cu12==12.4.127 in /usr/local/lib/python3.11/dist-packages (from torch>=1.3->-r requirements/build.txt (line 8)) (12.4.127)\n",
            "Collecting nvidia-nvjitlink-cu12==12.4.127 (from torch>=1.3->-r requirements/build.txt (line 8))\n",
            "  Downloading nvidia_nvjitlink_cu12-12.4.127-py3-none-manylinux2014_x86_64.whl.metadata (1.5 kB)\n",
            "Requirement already satisfied: triton==3.2.0 in /usr/local/lib/python3.11/dist-packages (from torch>=1.3->-r requirements/build.txt (line 8)) (3.2.0)\n",
            "Requirement already satisfied: sympy==1.13.1 in /usr/local/lib/python3.11/dist-packages (from torch>=1.3->-r requirements/build.txt (line 8)) (1.13.1)\n",
            "Requirement already satisfied: mpmath<1.4,>=1.1.0 in /usr/local/lib/python3.11/dist-packages (from sympy==1.13.1->torch>=1.3->-r requirements/build.txt (line 8)) (1.3.0)\n",
            "Requirement already satisfied: six>=1.5 in /usr/local/lib/python3.11/dist-packages (from python-dateutil>=2.7->matplotlib->-r requirements/build.txt (line 3)) (1.17.0)\n",
            "Requirement already satisfied: MarkupSafe>=2.0 in /usr/local/lib/python3.11/dist-packages (from jinja2->torch>=1.3->-r requirements/build.txt (line 8)) (3.0.2)\n",
            "Downloading decord-0.6.0-py3-none-manylinux2010_x86_64.whl (13.6 MB)\n",
            "\u001b[2K   \u001b[90m━━━━━━━━━━━━━━━━━━━━━━━━━━━━━━━━━━━━━━━━\u001b[0m \u001b[32m13.6/13.6 MB\u001b[0m \u001b[31m111.0 MB/s\u001b[0m eta \u001b[36m0:00:00\u001b[0m\n",
            "\u001b[?25hDownloading nvidia_cublas_cu12-12.4.5.8-py3-none-manylinux2014_x86_64.whl (363.4 MB)\n",
            "\u001b[2K   \u001b[90m━━━━━━━━━━━━━━━━━━━━━━━━━━━━━━━━━━━━━━━━\u001b[0m \u001b[32m363.4/363.4 MB\u001b[0m \u001b[31m4.2 MB/s\u001b[0m eta \u001b[36m0:00:00\u001b[0m\n",
            "\u001b[?25hDownloading nvidia_cuda_cupti_cu12-12.4.127-py3-none-manylinux2014_x86_64.whl (13.8 MB)\n",
            "\u001b[2K   \u001b[90m━━━━━━━━━━━━━━━━━━━━━━━━━━━━━━━━━━━━━━━━\u001b[0m \u001b[32m13.8/13.8 MB\u001b[0m \u001b[31m115.8 MB/s\u001b[0m eta \u001b[36m0:00:00\u001b[0m\n",
            "\u001b[?25hDownloading nvidia_cuda_nvrtc_cu12-12.4.127-py3-none-manylinux2014_x86_64.whl (24.6 MB)\n",
            "\u001b[2K   \u001b[90m━━━━━━━━━━━━━━━━━━━━━━━━━━━━━━━━━━━━━━━━\u001b[0m \u001b[32m24.6/24.6 MB\u001b[0m \u001b[31m73.8 MB/s\u001b[0m eta \u001b[36m0:00:00\u001b[0m\n",
            "\u001b[?25hDownloading nvidia_cuda_runtime_cu12-12.4.127-py3-none-manylinux2014_x86_64.whl (883 kB)\n",
            "\u001b[2K   \u001b[90m━━━━━━━━━━━━━━━━━━━━━━━━━━━━━━━━━━━━━━━━\u001b[0m \u001b[32m883.7/883.7 kB\u001b[0m \u001b[31m63.8 MB/s\u001b[0m eta \u001b[36m0:00:00\u001b[0m\n",
            "\u001b[?25hDownloading nvidia_cudnn_cu12-9.1.0.70-py3-none-manylinux2014_x86_64.whl (664.8 MB)\n",
            "\u001b[2K   \u001b[90m━━━━━━━━━━━━━━━━━━━━━━━━━━━━━━━━━━━━━━━\u001b[0m \u001b[32m664.8/664.8 MB\u001b[0m \u001b[31m853.9 kB/s\u001b[0m eta \u001b[36m0:00:00\u001b[0m\n",
            "\u001b[?25hDownloading nvidia_cufft_cu12-11.2.1.3-py3-none-manylinux2014_x86_64.whl (211.5 MB)\n",
            "\u001b[2K   \u001b[90m━━━━━━━━━━━━━━━━━━━━━━━━━━━━━━━━━━━━━━━━\u001b[0m \u001b[32m211.5/211.5 MB\u001b[0m \u001b[31m5.8 MB/s\u001b[0m eta \u001b[36m0:00:00\u001b[0m\n",
            "\u001b[?25hDownloading nvidia_curand_cu12-10.3.5.147-py3-none-manylinux2014_x86_64.whl (56.3 MB)\n",
            "\u001b[2K   \u001b[90m━━━━━━━━━━━━━━━━━━━━━━━━━━━━━━━━━━━━━━━━\u001b[0m \u001b[32m56.3/56.3 MB\u001b[0m \u001b[31m15.0 MB/s\u001b[0m eta \u001b[36m0:00:00\u001b[0m\n",
            "\u001b[?25hDownloading nvidia_cusolver_cu12-11.6.1.9-py3-none-manylinux2014_x86_64.whl (127.9 MB)\n",
            "\u001b[2K   \u001b[90m━━━━━━━━━━━━━━━━━━━━━━━━━━━━━━━━━━━━━━━━\u001b[0m \u001b[32m127.9/127.9 MB\u001b[0m \u001b[31m7.6 MB/s\u001b[0m eta \u001b[36m0:00:00\u001b[0m\n",
            "\u001b[?25hDownloading nvidia_cusparse_cu12-12.3.1.170-py3-none-manylinux2014_x86_64.whl (207.5 MB)\n",
            "\u001b[2K   \u001b[90m━━━━━━━━━━━━━━━━━━━━━━━━━━━━━━━━━━━━━━━━\u001b[0m \u001b[32m207.5/207.5 MB\u001b[0m \u001b[31m5.8 MB/s\u001b[0m eta \u001b[36m0:00:00\u001b[0m\n",
            "\u001b[?25hDownloading nvidia_nvjitlink_cu12-12.4.127-py3-none-manylinux2014_x86_64.whl (21.1 MB)\n",
            "\u001b[2K   \u001b[90m━━━━━━━━━━━━━━━━━━━━━━━━━━━━━━━━━━━━━━━━\u001b[0m \u001b[32m21.1/21.1 MB\u001b[0m \u001b[31m105.0 MB/s\u001b[0m eta \u001b[36m0:00:00\u001b[0m\n",
            "\u001b[?25hInstalling collected packages: nvidia-nvjitlink-cu12, nvidia-curand-cu12, nvidia-cufft-cu12, nvidia-cuda-runtime-cu12, nvidia-cuda-nvrtc-cu12, nvidia-cuda-cupti-cu12, nvidia-cublas-cu12, decord, nvidia-cusparse-cu12, nvidia-cudnn-cu12, nvidia-cusolver-cu12\n",
            "  Attempting uninstall: nvidia-nvjitlink-cu12\n",
            "    Found existing installation: nvidia-nvjitlink-cu12 12.5.82\n",
            "    Uninstalling nvidia-nvjitlink-cu12-12.5.82:\n",
            "      Successfully uninstalled nvidia-nvjitlink-cu12-12.5.82\n",
            "  Attempting uninstall: nvidia-curand-cu12\n",
            "    Found existing installation: nvidia-curand-cu12 10.3.6.82\n",
            "    Uninstalling nvidia-curand-cu12-10.3.6.82:\n",
            "      Successfully uninstalled nvidia-curand-cu12-10.3.6.82\n",
            "  Attempting uninstall: nvidia-cufft-cu12\n",
            "    Found existing installation: nvidia-cufft-cu12 11.2.3.61\n",
            "    Uninstalling nvidia-cufft-cu12-11.2.3.61:\n",
            "      Successfully uninstalled nvidia-cufft-cu12-11.2.3.61\n",
            "  Attempting uninstall: nvidia-cuda-runtime-cu12\n",
            "    Found existing installation: nvidia-cuda-runtime-cu12 12.5.82\n",
            "    Uninstalling nvidia-cuda-runtime-cu12-12.5.82:\n",
            "      Successfully uninstalled nvidia-cuda-runtime-cu12-12.5.82\n",
            "  Attempting uninstall: nvidia-cuda-nvrtc-cu12\n",
            "    Found existing installation: nvidia-cuda-nvrtc-cu12 12.5.82\n",
            "    Uninstalling nvidia-cuda-nvrtc-cu12-12.5.82:\n",
            "      Successfully uninstalled nvidia-cuda-nvrtc-cu12-12.5.82\n",
            "  Attempting uninstall: nvidia-cuda-cupti-cu12\n",
            "    Found existing installation: nvidia-cuda-cupti-cu12 12.5.82\n",
            "    Uninstalling nvidia-cuda-cupti-cu12-12.5.82:\n",
            "      Successfully uninstalled nvidia-cuda-cupti-cu12-12.5.82\n",
            "  Attempting uninstall: nvidia-cublas-cu12\n",
            "    Found existing installation: nvidia-cublas-cu12 12.5.3.2\n",
            "    Uninstalling nvidia-cublas-cu12-12.5.3.2:\n",
            "      Successfully uninstalled nvidia-cublas-cu12-12.5.3.2\n",
            "  Attempting uninstall: nvidia-cusparse-cu12\n",
            "    Found existing installation: nvidia-cusparse-cu12 12.5.1.3\n",
            "    Uninstalling nvidia-cusparse-cu12-12.5.1.3:\n",
            "      Successfully uninstalled nvidia-cusparse-cu12-12.5.1.3\n",
            "  Attempting uninstall: nvidia-cudnn-cu12\n",
            "    Found existing installation: nvidia-cudnn-cu12 9.3.0.75\n",
            "    Uninstalling nvidia-cudnn-cu12-9.3.0.75:\n",
            "      Successfully uninstalled nvidia-cudnn-cu12-9.3.0.75\n",
            "  Attempting uninstall: nvidia-cusolver-cu12\n",
            "    Found existing installation: nvidia-cusolver-cu12 11.6.3.83\n",
            "    Uninstalling nvidia-cusolver-cu12-11.6.3.83:\n",
            "      Successfully uninstalled nvidia-cusolver-cu12-11.6.3.83\n",
            "Successfully installed decord-0.6.0 nvidia-cublas-cu12-12.4.5.8 nvidia-cuda-cupti-cu12-12.4.127 nvidia-cuda-nvrtc-cu12-12.4.127 nvidia-cuda-runtime-cu12-12.4.127 nvidia-cudnn-cu12-9.1.0.70 nvidia-cufft-cu12-11.2.1.3 nvidia-curand-cu12-10.3.5.147 nvidia-cusolver-cu12-11.6.1.9 nvidia-cusparse-cu12-12.3.1.170 nvidia-nvjitlink-cu12-12.4.127\n"
          ]
        },
        {
          "output_type": "display_data",
          "data": {
            "application/vnd.colab-display-data+json": {
              "pip_warning": {
                "packages": [
                  "nvidia"
                ]
              },
              "id": "2caa9b4a5b5541598764765651089196"
            }
          },
          "metadata": {}
        },
        {
          "output_type": "stream",
          "name": "stdout",
          "text": [
            "Using pip 24.1.2 from /usr/local/lib/python3.11/dist-packages/pip (python 3.11)\n",
            "Obtaining file:///content/dataset/mmaction2\n",
            "  Running command python setup.py egg_info\n",
            "  running egg_info\n",
            "  creating /tmp/pip-pip-egg-info-04rrzil7/mmaction2.egg-info\n",
            "  writing /tmp/pip-pip-egg-info-04rrzil7/mmaction2.egg-info/PKG-INFO\n",
            "  writing dependency_links to /tmp/pip-pip-egg-info-04rrzil7/mmaction2.egg-info/dependency_links.txt\n",
            "  writing requirements to /tmp/pip-pip-egg-info-04rrzil7/mmaction2.egg-info/requires.txt\n",
            "  writing top-level names to /tmp/pip-pip-egg-info-04rrzil7/mmaction2.egg-info/top_level.txt\n",
            "  writing manifest file '/tmp/pip-pip-egg-info-04rrzil7/mmaction2.egg-info/SOURCES.txt'\n",
            "  reading manifest file '/tmp/pip-pip-egg-info-04rrzil7/mmaction2.egg-info/SOURCES.txt'\n",
            "  reading manifest template 'MANIFEST.in'\n",
            "  warning: no files found matching 'mmaction/.mim/model-index.yml'\n",
            "  warning: no files found matching 'mmaction/.mim/dataset-index.yml'\n",
            "  warning: no files found matching '*.py' under directory 'mmaction/.mim/configs'\n",
            "  warning: no files found matching '*.yml' under directory 'mmaction/.mim/configs'\n",
            "  warning: no files found matching '*.sh' under directory 'mmaction/.mim/tools'\n",
            "  warning: no files found matching '*.py' under directory 'mmaction/.mim/tools'\n",
            "  adding license file 'LICENSE'\n",
            "  writing manifest file '/tmp/pip-pip-egg-info-04rrzil7/mmaction2.egg-info/SOURCES.txt'\n",
            "  Preparing metadata (setup.py) ... \u001b[?25l\u001b[?25hdone\n",
            "Requirement already satisfied: decord>=0.4.1 in /usr/local/lib/python3.11/dist-packages (from mmaction2==1.2.0) (0.6.0)\n",
            "Requirement already satisfied: einops in /usr/local/lib/python3.11/dist-packages (from mmaction2==1.2.0) (0.8.1)\n",
            "Requirement already satisfied: matplotlib in /usr/local/lib/python3.11/dist-packages (from mmaction2==1.2.0) (3.10.0)\n",
            "Requirement already satisfied: numpy in /usr/local/lib/python3.11/dist-packages (from mmaction2==1.2.0) (1.26.4)\n",
            "Requirement already satisfied: opencv-contrib-python in /usr/local/lib/python3.11/dist-packages (from mmaction2==1.2.0) (4.11.0.86)\n",
            "Requirement already satisfied: Pillow in /usr/local/lib/python3.11/dist-packages (from mmaction2==1.2.0) (11.2.1)\n",
            "Requirement already satisfied: scipy in /usr/local/lib/python3.11/dist-packages (from mmaction2==1.2.0) (1.15.2)\n",
            "Requirement already satisfied: torch>=1.3 in /usr/local/lib/python3.11/dist-packages (from mmaction2==1.2.0) (2.6.0+cu124)\n",
            "Requirement already satisfied: filelock in /usr/local/lib/python3.11/dist-packages (from torch>=1.3->mmaction2==1.2.0) (3.18.0)\n",
            "Requirement already satisfied: typing-extensions>=4.10.0 in /usr/local/lib/python3.11/dist-packages (from torch>=1.3->mmaction2==1.2.0) (4.13.2)\n",
            "Requirement already satisfied: networkx in /usr/local/lib/python3.11/dist-packages (from torch>=1.3->mmaction2==1.2.0) (3.4.2)\n",
            "Requirement already satisfied: jinja2 in /usr/local/lib/python3.11/dist-packages (from torch>=1.3->mmaction2==1.2.0) (3.1.6)\n",
            "Requirement already satisfied: fsspec in /usr/local/lib/python3.11/dist-packages (from torch>=1.3->mmaction2==1.2.0) (2025.3.2)\n",
            "Requirement already satisfied: nvidia-cuda-nvrtc-cu12==12.4.127 in /usr/local/lib/python3.11/dist-packages (from torch>=1.3->mmaction2==1.2.0) (12.4.127)\n",
            "Requirement already satisfied: nvidia-cuda-runtime-cu12==12.4.127 in /usr/local/lib/python3.11/dist-packages (from torch>=1.3->mmaction2==1.2.0) (12.4.127)\n",
            "Requirement already satisfied: nvidia-cuda-cupti-cu12==12.4.127 in /usr/local/lib/python3.11/dist-packages (from torch>=1.3->mmaction2==1.2.0) (12.4.127)\n",
            "Requirement already satisfied: nvidia-cudnn-cu12==9.1.0.70 in /usr/local/lib/python3.11/dist-packages (from torch>=1.3->mmaction2==1.2.0) (9.1.0.70)\n",
            "Requirement already satisfied: nvidia-cublas-cu12==12.4.5.8 in /usr/local/lib/python3.11/dist-packages (from torch>=1.3->mmaction2==1.2.0) (12.4.5.8)\n",
            "Requirement already satisfied: nvidia-cufft-cu12==11.2.1.3 in /usr/local/lib/python3.11/dist-packages (from torch>=1.3->mmaction2==1.2.0) (11.2.1.3)\n",
            "Requirement already satisfied: nvidia-curand-cu12==10.3.5.147 in /usr/local/lib/python3.11/dist-packages (from torch>=1.3->mmaction2==1.2.0) (10.3.5.147)\n",
            "Requirement already satisfied: nvidia-cusolver-cu12==11.6.1.9 in /usr/local/lib/python3.11/dist-packages (from torch>=1.3->mmaction2==1.2.0) (11.6.1.9)\n",
            "Requirement already satisfied: nvidia-cusparse-cu12==12.3.1.170 in /usr/local/lib/python3.11/dist-packages (from torch>=1.3->mmaction2==1.2.0) (12.3.1.170)\n",
            "Requirement already satisfied: nvidia-cusparselt-cu12==0.6.2 in /usr/local/lib/python3.11/dist-packages (from torch>=1.3->mmaction2==1.2.0) (0.6.2)\n",
            "Requirement already satisfied: nvidia-nccl-cu12==2.21.5 in /usr/local/lib/python3.11/dist-packages (from torch>=1.3->mmaction2==1.2.0) (2.21.5)\n",
            "Requirement already satisfied: nvidia-nvtx-cu12==12.4.127 in /usr/local/lib/python3.11/dist-packages (from torch>=1.3->mmaction2==1.2.0) (12.4.127)\n",
            "Requirement already satisfied: nvidia-nvjitlink-cu12==12.4.127 in /usr/local/lib/python3.11/dist-packages (from torch>=1.3->mmaction2==1.2.0) (12.4.127)\n",
            "Requirement already satisfied: triton==3.2.0 in /usr/local/lib/python3.11/dist-packages (from torch>=1.3->mmaction2==1.2.0) (3.2.0)\n",
            "Requirement already satisfied: sympy==1.13.1 in /usr/local/lib/python3.11/dist-packages (from torch>=1.3->mmaction2==1.2.0) (1.13.1)\n",
            "Requirement already satisfied: mpmath<1.4,>=1.1.0 in /usr/local/lib/python3.11/dist-packages (from sympy==1.13.1->torch>=1.3->mmaction2==1.2.0) (1.3.0)\n",
            "Requirement already satisfied: contourpy>=1.0.1 in /usr/local/lib/python3.11/dist-packages (from matplotlib->mmaction2==1.2.0) (1.3.2)\n",
            "Requirement already satisfied: cycler>=0.10 in /usr/local/lib/python3.11/dist-packages (from matplotlib->mmaction2==1.2.0) (0.12.1)\n",
            "Requirement already satisfied: fonttools>=4.22.0 in /usr/local/lib/python3.11/dist-packages (from matplotlib->mmaction2==1.2.0) (4.57.0)\n",
            "Requirement already satisfied: kiwisolver>=1.3.1 in /usr/local/lib/python3.11/dist-packages (from matplotlib->mmaction2==1.2.0) (1.4.8)\n",
            "Requirement already satisfied: packaging>=20.0 in /usr/local/lib/python3.11/dist-packages (from matplotlib->mmaction2==1.2.0) (24.2)\n",
            "Requirement already satisfied: pyparsing>=2.3.1 in /usr/local/lib/python3.11/dist-packages (from matplotlib->mmaction2==1.2.0) (3.2.3)\n",
            "Requirement already satisfied: python-dateutil>=2.7 in /usr/local/lib/python3.11/dist-packages (from matplotlib->mmaction2==1.2.0) (2.9.0.post0)\n",
            "Requirement already satisfied: six>=1.5 in /usr/local/lib/python3.11/dist-packages (from python-dateutil>=2.7->matplotlib->mmaction2==1.2.0) (1.17.0)\n",
            "Requirement already satisfied: MarkupSafe>=2.0 in /usr/local/lib/python3.11/dist-packages (from jinja2->torch>=1.3->mmaction2==1.2.0) (3.0.2)\n",
            "Installing collected packages: mmaction2\n",
            "  Running setup.py develop for mmaction2\n",
            "    Running command python setup.py develop\n",
            "    running develop\n",
            "    /usr/local/lib/python3.11/dist-packages/setuptools/command/develop.py:41: EasyInstallDeprecationWarning: easy_install command is deprecated.\n",
            "    !!\n",
            "\n",
            "            ********************************************************************************\n",
            "            Please avoid running ``setup.py`` and ``easy_install``.\n",
            "            Instead, use pypa/build, pypa/installer or other\n",
            "            standards-based tools.\n",
            "\n",
            "            See https://github.com/pypa/setuptools/issues/917 for details.\n",
            "            ********************************************************************************\n",
            "\n",
            "    !!\n",
            "      easy_install.initialize_options(self)\n",
            "    /usr/local/lib/python3.11/dist-packages/setuptools/_distutils/cmd.py:66: SetuptoolsDeprecationWarning: setup.py install is deprecated.\n",
            "    !!\n",
            "\n",
            "            ********************************************************************************\n",
            "            Please avoid running ``setup.py`` directly.\n",
            "            Instead, use pypa/build, pypa/installer or other\n",
            "            standards-based tools.\n",
            "\n",
            "            See https://blog.ganssle.io/articles/2021/10/setup-py-deprecated.html for details.\n",
            "            ********************************************************************************\n",
            "\n",
            "    !!\n",
            "      self.initialize_options()\n",
            "    running egg_info\n",
            "    creating mmaction2.egg-info\n",
            "    writing mmaction2.egg-info/PKG-INFO\n",
            "    writing dependency_links to mmaction2.egg-info/dependency_links.txt\n",
            "    writing requirements to mmaction2.egg-info/requires.txt\n",
            "    writing top-level names to mmaction2.egg-info/top_level.txt\n",
            "    writing manifest file 'mmaction2.egg-info/SOURCES.txt'\n",
            "    reading manifest file 'mmaction2.egg-info/SOURCES.txt'\n",
            "    reading manifest template 'MANIFEST.in'\n",
            "    adding license file 'LICENSE'\n",
            "    writing manifest file 'mmaction2.egg-info/SOURCES.txt'\n",
            "    running build_ext\n",
            "    Creating /usr/local/lib/python3.11/dist-packages/mmaction2.egg-link (link to .)\n",
            "    Adding mmaction2 1.2.0 to easy-install.pth file\n",
            "\n",
            "    Installed /content/dataset/mmaction2\n",
            "Successfully installed mmaction2-1.2.0\n",
            "tools/train.py\n"
          ]
        }
      ]
    },
    {
      "cell_type": "code",
      "source": [
        "# Isto cria o ficheiro automaticamente no sítio certo\n",
        "# criar ficheiro para configurar o treino do modelo\n",
        "# config_code = \"\"\"\n",
        "# model = dict(\n",
        "#     type='STGCN',\n",
        "#     backbone=dict(\n",
        "#         type='STGCN',\n",
        "#         graph_cfg=dict(layout='openpose', mode='spatial'),\n",
        "#         pretrained='https://download.openmmlab.com/mmaction/stgcn/stgcn_50-pyslowfast-kinetics400-pretrained.pth'\n",
        "#     ),\n",
        "#     cls_head=dict(type='STGCNHead', num_classes=12, in_channels=256)\n",
        "# )\n",
        "\n",
        "# dataset_type = 'PoseDataset'\n",
        "# data = dict(\n",
        "#     videos_per_gpu=64,\n",
        "#     workers_per_gpu=2,\n",
        "#     train=dict(type=dataset_type, ann_file='dataset/train_set.pkl', data_prefix=''),\n",
        "#     val=dict(type=dataset_type, ann_file='dataset/val_set.pkl', data_prefix=''),\n",
        "#     test=dict(type=dataset_type, ann_file='dataset/test_set.pkl', data_prefix='')\n",
        "# )\n",
        "\n",
        "# optimizer = dict(type='Adam', lr=0.0003, weight_decay=0.0005)\n",
        "# optimizer_config = dict(grad_clip=None)\n",
        "\n",
        "# lr_config = dict(policy='CosineAnnealing', min_lr=0)\n",
        "# total_epochs = 10\n",
        "# checkpoint_config = dict(interval=10)\n",
        "\n",
        "# evaluation = dict(\n",
        "#     interval=1,\n",
        "#     metrics=['top_k_accuracy', 'mean_class_accuracy'],\n",
        "#     metric_options=dict(top_k_accuracy=dict(topk=(1, 3)))\n",
        "# )\n",
        "\n",
        "# log_config = dict(\n",
        "#     interval=20,\n",
        "#     hooks=[dict(type='TextLoggerHook')]\n",
        "# )\n",
        "\n",
        "# work_dir = './work_dirs/stgcn_50_tennis'\n",
        "# \"\"\"\n",
        "\n",
        "# # Gravar para o ficheiro na pasta configs/stgcn/\n",
        "# with open('dataset/mmaction2/configs/stgcn/stgcn_50-tennis.py', 'w') as f:\n",
        "#     f.write(config_code)\n",
        "\n"
      ],
      "metadata": {
        "colab": {
          "base_uri": "https://localhost:8080/",
          "height": 211
        },
        "id": "nls4QSlJXRtQ",
        "outputId": "329831ac-a2d4-4d28-e142-71254eb50075"
      },
      "execution_count": 16,
      "outputs": [
        {
          "output_type": "error",
          "ename": "FileNotFoundError",
          "evalue": "[Errno 2] No such file or directory: 'dataset/mmaction2/configs/stgcn/stgcn_50-tennis.py'",
          "traceback": [
            "\u001b[0;31m---------------------------------------------------------------------------\u001b[0m",
            "\u001b[0;31mFileNotFoundError\u001b[0m                         Traceback (most recent call last)",
            "\u001b[0;32m<ipython-input-16-d8a6a929b9ad>\u001b[0m in \u001b[0;36m<cell line: 0>\u001b[0;34m()\u001b[0m\n\u001b[1;32m     43\u001b[0m \u001b[0;34m\u001b[0m\u001b[0m\n\u001b[1;32m     44\u001b[0m \u001b[0;31m# Gravar para o ficheiro na pasta configs/stgcn/\u001b[0m\u001b[0;34m\u001b[0m\u001b[0;34m\u001b[0m\u001b[0m\n\u001b[0;32m---> 45\u001b[0;31m \u001b[0;32mwith\u001b[0m \u001b[0mopen\u001b[0m\u001b[0;34m(\u001b[0m\u001b[0;34m'dataset/mmaction2/configs/stgcn/stgcn_50-tennis.py'\u001b[0m\u001b[0;34m,\u001b[0m \u001b[0;34m'w'\u001b[0m\u001b[0;34m)\u001b[0m \u001b[0;32mas\u001b[0m \u001b[0mf\u001b[0m\u001b[0;34m:\u001b[0m\u001b[0;34m\u001b[0m\u001b[0;34m\u001b[0m\u001b[0m\n\u001b[0m\u001b[1;32m     46\u001b[0m     \u001b[0mf\u001b[0m\u001b[0;34m.\u001b[0m\u001b[0mwrite\u001b[0m\u001b[0;34m(\u001b[0m\u001b[0mconfig_code\u001b[0m\u001b[0;34m)\u001b[0m\u001b[0;34m\u001b[0m\u001b[0;34m\u001b[0m\u001b[0m\n\u001b[1;32m     47\u001b[0m \u001b[0;34m\u001b[0m\u001b[0m\n",
            "\u001b[0;31mFileNotFoundError\u001b[0m: [Errno 2] No such file or directory: 'dataset/mmaction2/configs/stgcn/stgcn_50-tennis.py'"
          ]
        }
      ]
    },
    {
      "cell_type": "code",
      "source": [
        "# Isto cria o ficheiro automaticamente no sítio certo\n",
        "# criar ficheiro para configurar o treino do modelo\n",
        "config_code = \"\"\"\n",
        "_base_ = '../../configs/skeleton/stgcn/stgcn_8xb16-joint-u100-80e_ntu60-xsub-keypoint-2d.py'\n",
        "\n",
        "model = dict(\n",
        "    cls_head=dict(num_classes=12))\n",
        "\n",
        "dataset_type = 'PoseDataset'\n",
        "data = dict(\n",
        "    videos_per_gpu=64,\n",
        "    workers_per_gpu=2,\n",
        "    train=dict(type=dataset_type, ann_file='dataset/train_set.pkl'),\n",
        "    val=dict(type=dataset_type, ann_file='dataset/val_set.pkl'),\n",
        "    test=dict(type=dataset_type, ann_file='dataset/test_set.pkl'))\n",
        "\n",
        "optimizer = dict(type='Adam', lr=0.0003, weight_decay=0.0005)\n",
        "total_epochs = 10\n",
        "\"\"\"\n",
        "\n",
        "# Gravar para o ficheiro na pasta configs/stgcn/\n",
        "with open('configs/stgcn/stgcn_50-tennis.py', 'w') as f:\n",
        "    f.write(config_code)\n",
        "\n",
        "\n"
      ],
      "metadata": {
        "colab": {
          "base_uri": "https://localhost:8080/",
          "height": 211
        },
        "outputId": "33cedda4-5abc-414d-cbf2-cda1642da99b",
        "id": "e5nG1HFrd6Fn"
      },
      "execution_count": 18,
      "outputs": [
        {
          "output_type": "error",
          "ename": "FileNotFoundError",
          "evalue": "[Errno 2] No such file or directory: 'configs/stgcn/stgcn_50-tennis.py'",
          "traceback": [
            "\u001b[0;31m---------------------------------------------------------------------------\u001b[0m",
            "\u001b[0;31mFileNotFoundError\u001b[0m                         Traceback (most recent call last)",
            "\u001b[0;32m<ipython-input-18-2338ebbb1186>\u001b[0m in \u001b[0;36m<cell line: 0>\u001b[0;34m()\u001b[0m\n\u001b[1;32m     20\u001b[0m \u001b[0;34m\u001b[0m\u001b[0m\n\u001b[1;32m     21\u001b[0m \u001b[0;31m# Gravar para o ficheiro na pasta configs/stgcn/\u001b[0m\u001b[0;34m\u001b[0m\u001b[0;34m\u001b[0m\u001b[0m\n\u001b[0;32m---> 22\u001b[0;31m \u001b[0;32mwith\u001b[0m \u001b[0mopen\u001b[0m\u001b[0;34m(\u001b[0m\u001b[0;34m'configs/stgcn/stgcn_50-tennis.py'\u001b[0m\u001b[0;34m,\u001b[0m \u001b[0;34m'w'\u001b[0m\u001b[0;34m)\u001b[0m \u001b[0;32mas\u001b[0m \u001b[0mf\u001b[0m\u001b[0;34m:\u001b[0m\u001b[0;34m\u001b[0m\u001b[0;34m\u001b[0m\u001b[0m\n\u001b[0m\u001b[1;32m     23\u001b[0m     \u001b[0mf\u001b[0m\u001b[0;34m.\u001b[0m\u001b[0mwrite\u001b[0m\u001b[0;34m(\u001b[0m\u001b[0mconfig_code\u001b[0m\u001b[0;34m)\u001b[0m\u001b[0;34m\u001b[0m\u001b[0;34m\u001b[0m\u001b[0m\n\u001b[1;32m     24\u001b[0m \u001b[0;34m\u001b[0m\u001b[0m\n",
            "\u001b[0;31mFileNotFoundError\u001b[0m: [Errno 2] No such file or directory: 'configs/stgcn/stgcn_50-tennis.py'"
          ]
        }
      ]
    },
    {
      "cell_type": "code",
      "source": [
        "!python tools/train.py configs/stgcn/stgcn_50-tennis.py"
      ],
      "metadata": {
        "colab": {
          "base_uri": "https://localhost:8080/",
          "height": 106
        },
        "id": "7Ye3IndAQNzw",
        "outputId": "06f2464d-5681-48e7-e0b1-32b4fd590fc5"
      },
      "execution_count": 12,
      "outputs": [
        {
          "output_type": "error",
          "ename": "SyntaxError",
          "evalue": "invalid syntax (<ipython-input-12-49585970d48c>, line 1)",
          "traceback": [
            "\u001b[0;36m  File \u001b[0;32m\"<ipython-input-12-49585970d48c>\"\u001b[0;36m, line \u001b[0;32m1\u001b[0m\n\u001b[0;31m    python tools/train.py configs/stgcn/stgcn_50-tennis.py\u001b[0m\n\u001b[0m           ^\u001b[0m\n\u001b[0;31mSyntaxError\u001b[0m\u001b[0;31m:\u001b[0m invalid syntax\n"
          ]
        }
      ]
    }
  ]
}
