{
  "nbformat": 4,
  "nbformat_minor": 0,
  "metadata": {
    "colab": {
      "provenance": [],
      "gpuType": "T4",
      "authorship_tag": "ABX9TyPD84m1NiB7hIsT531Dzesj",
      "include_colab_link": true
    },
    "kernelspec": {
      "name": "python3",
      "display_name": "Python 3"
    },
    "language_info": {
      "name": "python"
    },
    "accelerator": "GPU"
  },
  "cells": [
    {
      "cell_type": "markdown",
      "metadata": {
        "id": "view-in-github",
        "colab_type": "text"
      },
      "source": [
        "<a href=\"https://colab.research.google.com/github/diana-07/Diana_tests_DL/blob/main/project_DL_Diana_4.ipynb\" target=\"_parent\"><img src=\"https://colab.research.google.com/assets/colab-badge.svg\" alt=\"Open In Colab\"/></a>"
      ]
    },
    {
      "cell_type": "code",
      "source": [
        "# #eliminar pasta dataset caso seja necessário\n",
        "# import shutil\n",
        "# import os\n",
        "\n",
        "# os.chdir('/content')\n",
        "# print(os.getcwd())\n",
        "\n",
        "# # Caminho para a pasta a apagar\n",
        "# dir_path = \"dataset\"\n",
        "\n",
        "# # Só apaga se existir\n",
        "# if os.path.exists(dir_path):\n",
        "#     shutil.rmtree(dir_path)\n",
        "#     print(f\"Pasta '{dir_path}' apagada com sucesso.\")\n",
        "# else:\n",
        "#     print(f\"Pasta '{dir_path}' não existe.\")\n"
      ],
      "metadata": {
        "id": "WCpq0-QwjRxv"
      },
      "execution_count": 1,
      "outputs": []
    },
    {
      "cell_type": "code",
      "source": [
        "import shutil\n",
        "import sys\n",
        "import os\n",
        "import cv2\n",
        "import torch\n",
        "import numpy as np\n",
        "from tqdm import tqdm\n",
        "from collections import defaultdict\n",
        "from sklearn.model_selection import train_test_split\n",
        "import random\n",
        "import pickle\n",
        "\n",
        "#IMPORTANTE: BAIXAR ANTES O FICHEIRO prepare_data.py\n",
        "\n",
        "# 1. Remover pasta 'dataset' se já existir\n",
        "if os.path.exists(\"dataset\"):\n",
        "    shutil.rmtree(\"dataset\")\n",
        "    print(\"Pasta 'dataset' removida.\")\n",
        "\n",
        "# 2. Clonar o repositório com checkout parcial\n",
        "os.system(\"git clone --filter=blob:none --no-checkout https://github.com/THETIS-dataset/dataset.git\")\n",
        "\n",
        "# 3. Entrar na pasta 'dataset' e configurar checkout parcial\n",
        "os.chdir(\"dataset\")\n",
        "os.system(\"git sparse-checkout init --cone\")\n",
        "os.system(\"git sparse-checkout set VIDEO_Skelet3D\")\n",
        "os.system(\"git checkout\")\n",
        "print(\"Clone e checkout parcial concluídos.\")\n",
        "\n",
        "# 4. Voltar ao diretório anterior\n",
        "os.chdir(\"..\")\n",
        "\n",
        "\n",
        "# 5. Procurar prepare_data.py fora da pasta 'dataset'\n",
        "nome_arquivo = \"prepare_data.py\"\n",
        "caminho_encontrado = None\n",
        "\n",
        "for raiz, dirs, arquivos in os.walk(\".\"):\n",
        "    if nome_arquivo in arquivos and \"dataset\" not in raiz:\n",
        "        caminho_encontrado = os.path.join(raiz, nome_arquivo)\n",
        "        break\n",
        "\n",
        "# 6. Mover o prepare_data.py para dentro de 'dataset'\n",
        "if caminho_encontrado:\n",
        "    destino_final = os.path.join(\"dataset\", nome_arquivo)\n",
        "    shutil.move(caminho_encontrado, destino_final)\n",
        "    print(f\"{nome_arquivo} movido para a pasta 'dataset'.\")\n",
        "else:\n",
        "    print(f\"Arquivo {nome_arquivo} não encontrado fora da pasta 'dataset'.\")\n",
        "\n",
        "# 7. Adicionar 'dataset' ao sys.path para permitir importações\n",
        "dataset_path = os.path.abspath(\"dataset\")\n",
        "if dataset_path not in sys.path:\n",
        "    sys.path.append(dataset_path)\n",
        "\n",
        "# 8. Agora já podes importar a função\n",
        "try:\n",
        "    from prepare_data import collect_by_players\n",
        "    from prepare_data import pad_or_truncate_keypoints\n",
        "    from prepare_data import extract_player_id\n",
        "    print(\"Importação bem-sucedida.\")\n",
        "except ImportError as e:\n",
        "    print(\"Erro ao importar função:\", e)\n"
      ],
      "metadata": {
        "colab": {
          "base_uri": "https://localhost:8080/"
        },
        "id": "XKSs2FkWoFD6",
        "outputId": "9ef9161b-f826-40a1-bc4b-47cb2909e2d1"
      },
      "execution_count": 5,
      "outputs": [
        {
          "output_type": "stream",
          "name": "stdout",
          "text": [
            "Pasta 'dataset' removida.\n",
            "Clone e checkout parcial concluídos.\n",
            "prepare_data.py movido para a pasta 'dataset'.\n",
            "Importação bem-sucedida.\n"
          ]
        }
      ]
    },
    {
      "cell_type": "code",
      "source": [
        "!pip uninstall -y mediapipe-silicon\n",
        "!pip uninstall -y mediapipe\n",
        "!pip uninstall -y protobuf\n",
        "!pip install protobuf==3.20.3  # Specific version that often works well with MediaPipe\n",
        "!pip install mediapipe"
      ],
      "metadata": {
        "colab": {
          "base_uri": "https://localhost:8080/",
          "height": 1000
        },
        "collapsed": true,
        "id": "vH6Bd75BvpqR",
        "outputId": "c07a40fb-944d-4f38-e3c7-a0ff32fc6323"
      },
      "execution_count": 6,
      "outputs": [
        {
          "output_type": "stream",
          "name": "stdout",
          "text": [
            "\u001b[33mWARNING: Skipping mediapipe-silicon as it is not installed.\u001b[0m\u001b[33m\n",
            "\u001b[0m\u001b[33mWARNING: Skipping mediapipe as it is not installed.\u001b[0m\u001b[33m\n",
            "\u001b[0mFound existing installation: protobuf 5.29.4\n",
            "Uninstalling protobuf-5.29.4:\n",
            "  Successfully uninstalled protobuf-5.29.4\n",
            "Collecting protobuf==3.20.3\n",
            "  Downloading protobuf-3.20.3-py2.py3-none-any.whl.metadata (720 bytes)\n",
            "Downloading protobuf-3.20.3-py2.py3-none-any.whl (162 kB)\n",
            "\u001b[2K   \u001b[90m━━━━━━━━━━━━━━━━━━━━━━━━━━━━━━━━━━━━━━━━\u001b[0m \u001b[32m162.1/162.1 kB\u001b[0m \u001b[31m4.2 MB/s\u001b[0m eta \u001b[36m0:00:00\u001b[0m\n",
            "\u001b[?25hInstalling collected packages: protobuf\n",
            "\u001b[31mERROR: pip's dependency resolver does not currently take into account all the packages that are installed. This behaviour is the source of the following dependency conflicts.\n",
            "tensorflow-metadata 1.17.1 requires protobuf<6.0.0,>=4.25.2; python_version >= \"3.11\", but you have protobuf 3.20.3 which is incompatible.\n",
            "grpcio-status 1.71.0 requires protobuf<6.0dev,>=5.26.1, but you have protobuf 3.20.3 which is incompatible.\n",
            "dataproc-spark-connect 0.7.2 requires tqdm>=4.67, but you have tqdm 4.65.2 which is incompatible.\n",
            "ydf 0.11.0 requires protobuf<6.0.0,>=5.29.1, but you have protobuf 3.20.3 which is incompatible.\u001b[0m\u001b[31m\n",
            "\u001b[0mSuccessfully installed protobuf-3.20.3\n"
          ]
        },
        {
          "output_type": "display_data",
          "data": {
            "application/vnd.colab-display-data+json": {
              "pip_warning": {
                "packages": [
                  "google"
                ]
              },
              "id": "61e0554d46c44cf5aeaca693ad6c37cc"
            }
          },
          "metadata": {}
        },
        {
          "output_type": "stream",
          "name": "stdout",
          "text": [
            "Collecting mediapipe\n",
            "  Downloading mediapipe-0.10.21-cp311-cp311-manylinux_2_28_x86_64.whl.metadata (9.7 kB)\n",
            "Requirement already satisfied: absl-py in /usr/local/lib/python3.11/dist-packages (from mediapipe) (1.4.0)\n",
            "Requirement already satisfied: attrs>=19.1.0 in /usr/local/lib/python3.11/dist-packages (from mediapipe) (25.3.0)\n",
            "Requirement already satisfied: flatbuffers>=2.0 in /usr/local/lib/python3.11/dist-packages (from mediapipe) (25.2.10)\n",
            "Requirement already satisfied: jax in /usr/local/lib/python3.11/dist-packages (from mediapipe) (0.5.2)\n",
            "Requirement already satisfied: jaxlib in /usr/local/lib/python3.11/dist-packages (from mediapipe) (0.5.1)\n",
            "Requirement already satisfied: matplotlib in /usr/local/lib/python3.11/dist-packages (from mediapipe) (3.10.0)\n",
            "Collecting numpy<2 (from mediapipe)\n",
            "  Downloading numpy-1.26.4-cp311-cp311-manylinux_2_17_x86_64.manylinux2014_x86_64.whl.metadata (61 kB)\n",
            "\u001b[2K     \u001b[90m━━━━━━━━━━━━━━━━━━━━━━━━━━━━━━━━━━━━━━━━\u001b[0m \u001b[32m61.0/61.0 kB\u001b[0m \u001b[31m4.2 MB/s\u001b[0m eta \u001b[36m0:00:00\u001b[0m\n",
            "\u001b[?25hRequirement already satisfied: opencv-contrib-python in /usr/local/lib/python3.11/dist-packages (from mediapipe) (4.11.0.86)\n",
            "Collecting protobuf<5,>=4.25.3 (from mediapipe)\n",
            "  Downloading protobuf-4.25.7-cp37-abi3-manylinux2014_x86_64.whl.metadata (541 bytes)\n",
            "Collecting sounddevice>=0.4.4 (from mediapipe)\n",
            "  Downloading sounddevice-0.5.1-py3-none-any.whl.metadata (1.4 kB)\n",
            "Requirement already satisfied: sentencepiece in /usr/local/lib/python3.11/dist-packages (from mediapipe) (0.2.0)\n",
            "Requirement already satisfied: CFFI>=1.0 in /usr/local/lib/python3.11/dist-packages (from sounddevice>=0.4.4->mediapipe) (1.17.1)\n",
            "Requirement already satisfied: ml_dtypes>=0.4.0 in /usr/local/lib/python3.11/dist-packages (from jax->mediapipe) (0.4.1)\n",
            "Requirement already satisfied: opt_einsum in /usr/local/lib/python3.11/dist-packages (from jax->mediapipe) (3.4.0)\n",
            "Requirement already satisfied: scipy>=1.11.1 in /usr/local/lib/python3.11/dist-packages (from jax->mediapipe) (1.15.2)\n",
            "Requirement already satisfied: contourpy>=1.0.1 in /usr/local/lib/python3.11/dist-packages (from matplotlib->mediapipe) (1.3.2)\n",
            "Requirement already satisfied: cycler>=0.10 in /usr/local/lib/python3.11/dist-packages (from matplotlib->mediapipe) (0.12.1)\n",
            "Requirement already satisfied: fonttools>=4.22.0 in /usr/local/lib/python3.11/dist-packages (from matplotlib->mediapipe) (4.57.0)\n",
            "Requirement already satisfied: kiwisolver>=1.3.1 in /usr/local/lib/python3.11/dist-packages (from matplotlib->mediapipe) (1.4.8)\n",
            "Requirement already satisfied: packaging>=20.0 in /usr/local/lib/python3.11/dist-packages (from matplotlib->mediapipe) (24.2)\n",
            "Requirement already satisfied: pillow>=8 in /usr/local/lib/python3.11/dist-packages (from matplotlib->mediapipe) (11.2.1)\n",
            "Requirement already satisfied: pyparsing>=2.3.1 in /usr/local/lib/python3.11/dist-packages (from matplotlib->mediapipe) (3.2.3)\n",
            "Requirement already satisfied: python-dateutil>=2.7 in /usr/local/lib/python3.11/dist-packages (from matplotlib->mediapipe) (2.9.0.post0)\n",
            "Requirement already satisfied: pycparser in /usr/local/lib/python3.11/dist-packages (from CFFI>=1.0->sounddevice>=0.4.4->mediapipe) (2.22)\n",
            "Requirement already satisfied: six>=1.5 in /usr/local/lib/python3.11/dist-packages (from python-dateutil>=2.7->matplotlib->mediapipe) (1.17.0)\n",
            "Downloading mediapipe-0.10.21-cp311-cp311-manylinux_2_28_x86_64.whl (35.6 MB)\n",
            "\u001b[2K   \u001b[90m━━━━━━━━━━━━━━━━━━━━━━━━━━━━━━━━━━━━━━━━\u001b[0m \u001b[32m35.6/35.6 MB\u001b[0m \u001b[31m44.8 MB/s\u001b[0m eta \u001b[36m0:00:00\u001b[0m\n",
            "\u001b[?25hDownloading numpy-1.26.4-cp311-cp311-manylinux_2_17_x86_64.manylinux2014_x86_64.whl (18.3 MB)\n",
            "\u001b[2K   \u001b[90m━━━━━━━━━━━━━━━━━━━━━━━━━━━━━━━━━━━━━━━━\u001b[0m \u001b[32m18.3/18.3 MB\u001b[0m \u001b[31m73.4 MB/s\u001b[0m eta \u001b[36m0:00:00\u001b[0m\n",
            "\u001b[?25hDownloading protobuf-4.25.7-cp37-abi3-manylinux2014_x86_64.whl (294 kB)\n",
            "\u001b[2K   \u001b[90m━━━━━━━━━━━━━━━━━━━━━━━━━━━━━━━━━━━━━━━━\u001b[0m \u001b[32m294.6/294.6 kB\u001b[0m \u001b[31m22.3 MB/s\u001b[0m eta \u001b[36m0:00:00\u001b[0m\n",
            "\u001b[?25hDownloading sounddevice-0.5.1-py3-none-any.whl (32 kB)\n",
            "Installing collected packages: protobuf, numpy, sounddevice, mediapipe\n",
            "  Attempting uninstall: protobuf\n",
            "    Found existing installation: protobuf 3.20.3\n",
            "    Uninstalling protobuf-3.20.3:\n",
            "      Successfully uninstalled protobuf-3.20.3\n",
            "  Attempting uninstall: numpy\n",
            "    Found existing installation: numpy 2.0.2\n",
            "    Uninstalling numpy-2.0.2:\n",
            "      Successfully uninstalled numpy-2.0.2\n",
            "\u001b[31mERROR: pip's dependency resolver does not currently take into account all the packages that are installed. This behaviour is the source of the following dependency conflicts.\n",
            "thinc 8.3.6 requires numpy<3.0.0,>=2.0.0, but you have numpy 1.26.4 which is incompatible.\n",
            "pytensor 2.30.3 requires filelock>=3.15, but you have filelock 3.14.0 which is incompatible.\n",
            "pymc 5.22.0 requires rich>=13.7.1, but you have rich 13.4.2 which is incompatible.\n",
            "grpcio-status 1.71.0 requires protobuf<6.0dev,>=5.26.1, but you have protobuf 4.25.7 which is incompatible.\n",
            "yfinance 0.2.57 requires requests>=2.31, but you have requests 2.28.2 which is incompatible.\n",
            "dataproc-spark-connect 0.7.2 requires tqdm>=4.67, but you have tqdm 4.65.2 which is incompatible.\n",
            "ydf 0.11.0 requires protobuf<6.0.0,>=5.29.1, but you have protobuf 4.25.7 which is incompatible.\u001b[0m\u001b[31m\n",
            "\u001b[0mSuccessfully installed mediapipe-0.10.21 numpy-1.26.4 protobuf-4.25.7 sounddevice-0.5.1\n"
          ]
        }
      ]
    },
    {
      "cell_type": "code",
      "source": [
        "import mediapipe as mp\n"
      ],
      "metadata": {
        "id": "aeZtH0LdvfS7"
      },
      "execution_count": 7,
      "outputs": []
    },
    {
      "cell_type": "code",
      "source": [
        "%cd dataset\n",
        "!python prepare_data.py"
      ],
      "metadata": {
        "colab": {
          "base_uri": "https://localhost:8080/"
        },
        "id": "FdHfOrr3azB6",
        "outputId": "0c29a24b-39f4-4c9b-f812-1fd4ba6fbcde"
      },
      "execution_count": 8,
      "outputs": [
        {
          "output_type": "stream",
          "name": "stdout",
          "text": [
            "/content/dataset\n",
            "CUDA available: False\n",
            "Device name: No GPU\n",
            "['backhand2hands', 'forehand_openstands', 'forehand_slice', 'slice_service', 'smash', 'backhand_slice', 'flat_service', 'forehand_flat', 'kick_service', 'backhand', 'backhand_volley', 'forehand_volley']\n",
            "Fim da execução do prepare_data.py\n"
          ]
        }
      ]
    },
    {
      "cell_type": "code",
      "source": [
        "#estimated time execution: 28 min\n",
        "#extract the keypoints AND pad/truncate\n",
        "\n",
        "root_dir = \"npy_videos\"\n",
        "\n",
        "mp_pose = mp.solutions.pose\n",
        "pose = mp_pose.Pose(static_image_mode=False) # This allows MediaPipe to track pose across frames, potentially leading to more stable and accurate keypoint estimations.\n",
        "\n",
        "all_keypoints = {}\n",
        "\n",
        "# Top-level loop with a single progress bar\n",
        "action_folders = sorted([d for d in os.listdir(root_dir) if os.path.isdir(os.path.join(root_dir, d))])\n",
        "for action_folder in tqdm(action_folders, desc=\"Processing actions\"):\n",
        "    action_path = os.path.join(root_dir, action_folder)\n",
        "    all_keypoints[action_folder] = {}\n",
        "\n",
        "    video_files = sorted([f for f in os.listdir(action_path) if f.endswith(\".npy\")])\n",
        "    for video_file in video_files:  # No tqdm here\n",
        "        video_path = os.path.join(action_path, video_file)\n",
        "        try:\n",
        "            sample = np.load(video_path)\n",
        "            video_keypoints = []\n",
        "\n",
        "            for frame in sample:\n",
        "                frame_rgb = cv2.cvtColor(frame, cv2.COLOR_BGR2RGB)\n",
        "                results = pose.process(frame_rgb)\n",
        "\n",
        "                if results.pose_landmarks:\n",
        "                    keypoints = [[lm.x, lm.y, lm.z] for lm in results.pose_landmarks.landmark]\n",
        "                else:\n",
        "                    keypoints = np.zeros((33, 3)).tolist()\n",
        "\n",
        "                video_keypoints.append(keypoints)\n",
        "\n",
        "            video_keypoints = np.array(video_keypoints)\n",
        "            video_keypoints = pad_or_truncate_keypoints(video_keypoints, target_length=120)\n",
        "            all_keypoints[action_folder][video_file] = video_keypoints\n",
        "\n",
        "\n",
        "\n",
        "\n",
        "\n",
        "        except Exception as e:\n",
        "            pass  # Suppress per-video error printing for a clean log\n",
        "\n",
        "# Final summary\n",
        "print(\"\\n Summary of extracted keypoints:\")\n",
        "for action, videos in all_keypoints.items():\n",
        "    print(f\"- {action}: {len(videos)} videos processed.\")\n",
        "\n",
        "# Jsut to see the calues for the first one\n",
        "first_action = list(all_keypoints.keys())[0]\n",
        "first_video = list(all_keypoints[first_action].keys())[0]\n",
        "print(f\"Keypoints for the first frame of {first_video} in {first_action}:\")\n",
        "print(all_keypoints[first_action][first_video][0])\n",
        "\n",
        "print('----')\n",
        "\n",
        "frame_idx = 10  # ou qualquer outro frame entre 0 e 119 (porque truncas para 120)\n",
        "print(f\"Keypoints para o frame {frame_idx} do vídeo {first_video} ({first_action}):\")\n",
        "print(all_keypoints[first_action][first_video][frame_idx])\n",
        "\n",
        "print()\n",
        "\n",
        "# Por exemplo, mostrar todos os pontos do frame 10\n",
        "for i, (x, y, z) in enumerate(all_keypoints[first_action][first_video][frame_idx]):\n",
        "    print(f\"  Ponto {i:2d}: x={x:.3f}, y={y:.3f}, z={z:.3f}\")\n",
        "\n"
      ],
      "metadata": {
        "colab": {
          "base_uri": "https://localhost:8080/"
        },
        "collapsed": true,
        "id": "9DvBd7_WbBg9",
        "outputId": "2d37a14a-04fd-4ccf-b0e7-6e596ad83185"
      },
      "execution_count": 9,
      "outputs": [
        {
          "metadata": {
            "tags": null
          },
          "name": "stderr",
          "output_type": "stream",
          "text": [
            "Processing actions: 100%|██████████| 12/12 [40:09<00:00, 200.82s/it]"
          ]
        },
        {
          "metadata": {
            "tags": null
          },
          "name": "stdout",
          "output_type": "stream",
          "text": [
            "\n",
            " Summary of extracted keypoints:\n",
            "- backhand: 97 videos processed.\n",
            "- backhand2hands: 107 videos processed.\n",
            "- backhand_slice: 100 videos processed.\n",
            "- backhand_volley: 103 videos processed.\n",
            "- flat_service: 96 videos processed.\n",
            "- forehand_flat: 110 videos processed.\n",
            "- forehand_openstands: 101 videos processed.\n",
            "- forehand_slice: 97 videos processed.\n",
            "- forehand_volley: 93 videos processed.\n",
            "- kick_service: 109 videos processed.\n",
            "- slice_service: 100 videos processed.\n",
            "- smash: 104 videos processed.\n",
            "Keypoints for the first frame of p10_backhand_skelet3D_s2.npy in backhand:\n",
            "[[0. 0. 0.]\n",
            " [0. 0. 0.]\n",
            " [0. 0. 0.]\n",
            " [0. 0. 0.]\n",
            " [0. 0. 0.]\n",
            " [0. 0. 0.]\n",
            " [0. 0. 0.]\n",
            " [0. 0. 0.]\n",
            " [0. 0. 0.]\n",
            " [0. 0. 0.]\n",
            " [0. 0. 0.]\n",
            " [0. 0. 0.]\n",
            " [0. 0. 0.]\n",
            " [0. 0. 0.]\n",
            " [0. 0. 0.]\n",
            " [0. 0. 0.]\n",
            " [0. 0. 0.]\n",
            " [0. 0. 0.]\n",
            " [0. 0. 0.]\n",
            " [0. 0. 0.]\n",
            " [0. 0. 0.]\n",
            " [0. 0. 0.]\n",
            " [0. 0. 0.]\n",
            " [0. 0. 0.]\n",
            " [0. 0. 0.]\n",
            " [0. 0. 0.]\n",
            " [0. 0. 0.]\n",
            " [0. 0. 0.]\n",
            " [0. 0. 0.]\n",
            " [0. 0. 0.]\n",
            " [0. 0. 0.]\n",
            " [0. 0. 0.]\n",
            " [0. 0. 0.]]\n",
            "----\n",
            "Keypoints para o frame 10 do vídeo p10_backhand_skelet3D_s2.npy (backhand):\n",
            "[[0. 0. 0.]\n",
            " [0. 0. 0.]\n",
            " [0. 0. 0.]\n",
            " [0. 0. 0.]\n",
            " [0. 0. 0.]\n",
            " [0. 0. 0.]\n",
            " [0. 0. 0.]\n",
            " [0. 0. 0.]\n",
            " [0. 0. 0.]\n",
            " [0. 0. 0.]\n",
            " [0. 0. 0.]\n",
            " [0. 0. 0.]\n",
            " [0. 0. 0.]\n",
            " [0. 0. 0.]\n",
            " [0. 0. 0.]\n",
            " [0. 0. 0.]\n",
            " [0. 0. 0.]\n",
            " [0. 0. 0.]\n",
            " [0. 0. 0.]\n",
            " [0. 0. 0.]\n",
            " [0. 0. 0.]\n",
            " [0. 0. 0.]\n",
            " [0. 0. 0.]\n",
            " [0. 0. 0.]\n",
            " [0. 0. 0.]\n",
            " [0. 0. 0.]\n",
            " [0. 0. 0.]\n",
            " [0. 0. 0.]\n",
            " [0. 0. 0.]\n",
            " [0. 0. 0.]\n",
            " [0. 0. 0.]\n",
            " [0. 0. 0.]\n",
            " [0. 0. 0.]]\n",
            "\n",
            "  Ponto  0: x=0.000, y=0.000, z=0.000\n",
            "  Ponto  1: x=0.000, y=0.000, z=0.000\n",
            "  Ponto  2: x=0.000, y=0.000, z=0.000\n",
            "  Ponto  3: x=0.000, y=0.000, z=0.000\n",
            "  Ponto  4: x=0.000, y=0.000, z=0.000\n",
            "  Ponto  5: x=0.000, y=0.000, z=0.000\n",
            "  Ponto  6: x=0.000, y=0.000, z=0.000\n",
            "  Ponto  7: x=0.000, y=0.000, z=0.000\n",
            "  Ponto  8: x=0.000, y=0.000, z=0.000\n",
            "  Ponto  9: x=0.000, y=0.000, z=0.000\n",
            "  Ponto 10: x=0.000, y=0.000, z=0.000\n",
            "  Ponto 11: x=0.000, y=0.000, z=0.000\n",
            "  Ponto 12: x=0.000, y=0.000, z=0.000\n",
            "  Ponto 13: x=0.000, y=0.000, z=0.000\n",
            "  Ponto 14: x=0.000, y=0.000, z=0.000\n",
            "  Ponto 15: x=0.000, y=0.000, z=0.000\n",
            "  Ponto 16: x=0.000, y=0.000, z=0.000\n",
            "  Ponto 17: x=0.000, y=0.000, z=0.000\n",
            "  Ponto 18: x=0.000, y=0.000, z=0.000\n",
            "  Ponto 19: x=0.000, y=0.000, z=0.000\n",
            "  Ponto 20: x=0.000, y=0.000, z=0.000\n",
            "  Ponto 21: x=0.000, y=0.000, z=0.000\n",
            "  Ponto 22: x=0.000, y=0.000, z=0.000\n",
            "  Ponto 23: x=0.000, y=0.000, z=0.000\n",
            "  Ponto 24: x=0.000, y=0.000, z=0.000\n",
            "  Ponto 25: x=0.000, y=0.000, z=0.000\n",
            "  Ponto 26: x=0.000, y=0.000, z=0.000\n",
            "  Ponto 27: x=0.000, y=0.000, z=0.000\n",
            "  Ponto 28: x=0.000, y=0.000, z=0.000\n",
            "  Ponto 29: x=0.000, y=0.000, z=0.000\n",
            "  Ponto 30: x=0.000, y=0.000, z=0.000\n",
            "  Ponto 31: x=0.000, y=0.000, z=0.000\n",
            "  Ponto 32: x=0.000, y=0.000, z=0.000\n"
          ]
        },
        {
          "metadata": {
            "tags": null
          },
          "name": "stderr",
          "output_type": "stream",
          "text": [
            "\n"
          ]
        }
      ]
    },
    {
      "cell_type": "code",
      "source": [
        "#Organize videos by player and split player IDs\n",
        "\n",
        "# Organize videos by player\n",
        "player_video_map = defaultdict(list)\n",
        "for action, videos in all_keypoints.items():\n",
        "    for video_file in videos:\n",
        "        player_id = extract_player_id(video_file)\n",
        "        player_video_map[player_id].append((action, video_file))\n",
        "\n",
        "# Split player IDs\n",
        "players = list(player_video_map.keys())\n",
        "random.shuffle(players)\n",
        "\n",
        "train_end = int(len(players) * 0.7)\n",
        "val_end = int(len(players) * 0.85)\n",
        "\n",
        "train_players = players[:train_end]\n",
        "val_players = players[train_end:val_end]\n",
        "test_players = players[val_end:]\n",
        "\n",
        "train_set = collect_by_players(train_players, player_video_map, all_keypoints)\n",
        "val_set = collect_by_players(val_players,  player_video_map, all_keypoints)\n",
        "test_set = collect_by_players(test_players,  player_video_map, all_keypoints)\n",
        "\n",
        "print(f\"Train: {len(train_set)}, Val: {len(val_set)}, Test: {len(test_set)}\")"
      ],
      "metadata": {
        "colab": {
          "base_uri": "https://localhost:8080/"
        },
        "id": "ic4XG4QWFKZ6",
        "outputId": "bc30bbe7-f65c-4c39-dd4e-ed87d5cbe0f8"
      },
      "execution_count": 10,
      "outputs": [
        {
          "output_type": "stream",
          "name": "stdout",
          "text": [
            "Train: 852, Val: 181, Test: 184\n"
          ]
        }
      ]
    },
    {
      "cell_type": "code",
      "source": [
        "# Guardar cada conjunto em ficheiro .pkl\n",
        "with open('train_set.pkl', 'wb') as f:\n",
        "    pickle.dump(train_set, f)\n",
        "with open('val_set.pkl', 'wb') as f:\n",
        "    pickle.dump(val_set, f)\n",
        "with open('test_set.pkl', 'wb') as f:\n",
        "    pickle.dump(test_set, f)"
      ],
      "metadata": {
        "id": "CA-BvCG3UaMD"
      },
      "execution_count": 11,
      "outputs": []
    },
    {
      "cell_type": "code",
      "source": [
        "#  Usar biblioteca MMAction2\n",
        "\n",
        "# guardar os pesos treinados no dataset Kinetics400 numa variavel\n",
        "#pretrained='https://download.openmmlab.com/mmaction/stgcn/stgcn_50-pyslowfast-kinetics400-pretrained.pth'\n",
        "\n",
        "#modelo\n",
        "# Criar automaticamente o modelo ST-GCN-50\n",
        "# carrega pesos pre-treinados\n",
        "# considera o número de classes do projeto\n",
        "# model = dict(\n",
        "#     type='STGCN',\n",
        "#     backbone=dict(\n",
        "#         type='STGCN',\n",
        "#         graph_cfg=dict(layout='openpose', mode='spatial'),\n",
        "#         pretrained= pretrained # Checkpoint pré-treinado\n",
        "#     ),\n",
        "#     cls_head=dict(type='STGCNHead', num_classes=12, in_channels=256)\n",
        "# )\n",
        "\n"
      ],
      "metadata": {
        "id": "PiqOghiJOin7"
      },
      "execution_count": 9,
      "outputs": []
    },
    {
      "cell_type": "code",
      "source": [
        "# definir os dados de treino, validação e teste\n",
        "# files no formato .pkl com keypoints: (N, C, T, V, M) e labels.\n",
        "\n",
        "# data = dict(\n",
        "#     train=dict(ann_file='train_set.pkl'),\n",
        "#     val=dict(ann_file='val_set.pkl'),\n",
        "#     test=dict(ann_file='test_set.pkl')\n",
        "# )"
      ],
      "metadata": {
        "id": "VGN-GbyDFOH1"
      },
      "execution_count": 10,
      "outputs": []
    },
    {
      "cell_type": "code",
      "source": [
        "#2 minutos -> tempo de execução\n",
        "#Clonar e entrar no diretório\n",
        "!git clone https://github.com/open-mmlab/mmaction2.git\n",
        "%cd mmaction2\n",
        "\n",
        "# Instalar dependências\n",
        "!pip install -r requirements/build.txt\n",
        "!pip install -v -e .\n",
        "\n",
        "# Verifica se tools/train.py existe\n",
        "!ls tools/train.py\n",
        "\n"
      ],
      "metadata": {
        "colab": {
          "base_uri": "https://localhost:8080/"
        },
        "id": "g2r8y9XLaizA",
        "outputId": "01749fbb-3bea-41d7-9abf-fec511dd76d9"
      },
      "execution_count": 12,
      "outputs": [
        {
          "output_type": "stream",
          "name": "stdout",
          "text": [
            "Cloning into 'mmaction2'...\n",
            "remote: Enumerating objects: 22864, done.\u001b[K\n",
            "remote: Total 22864 (delta 0), reused 0 (delta 0), pack-reused 22864 (from 1)\u001b[K\n",
            "Receiving objects: 100% (22864/22864), 69.62 MiB | 29.26 MiB/s, done.\n",
            "Resolving deltas: 100% (16120/16120), done.\n",
            "/content/dataset/mmaction2\n",
            "Requirement already satisfied: decord>=0.4.1 in /usr/local/lib/python3.11/dist-packages (from -r requirements/build.txt (line 1)) (0.6.0)\n",
            "Requirement already satisfied: einops in /usr/local/lib/python3.11/dist-packages (from -r requirements/build.txt (line 2)) (0.8.1)\n",
            "Requirement already satisfied: matplotlib in /usr/local/lib/python3.11/dist-packages (from -r requirements/build.txt (line 3)) (3.10.0)\n",
            "Requirement already satisfied: numpy in /usr/local/lib/python3.11/dist-packages (from -r requirements/build.txt (line 4)) (1.26.4)\n",
            "Requirement already satisfied: opencv-contrib-python in /usr/local/lib/python3.11/dist-packages (from -r requirements/build.txt (line 5)) (4.11.0.86)\n",
            "Requirement already satisfied: Pillow in /usr/local/lib/python3.11/dist-packages (from -r requirements/build.txt (line 6)) (11.2.1)\n",
            "Requirement already satisfied: scipy in /usr/local/lib/python3.11/dist-packages (from -r requirements/build.txt (line 7)) (1.15.2)\n",
            "Requirement already satisfied: torch>=1.3 in /usr/local/lib/python3.11/dist-packages (from -r requirements/build.txt (line 8)) (2.0.1+cu118)\n",
            "Requirement already satisfied: contourpy>=1.0.1 in /usr/local/lib/python3.11/dist-packages (from matplotlib->-r requirements/build.txt (line 3)) (1.3.2)\n",
            "Requirement already satisfied: cycler>=0.10 in /usr/local/lib/python3.11/dist-packages (from matplotlib->-r requirements/build.txt (line 3)) (0.12.1)\n",
            "Requirement already satisfied: fonttools>=4.22.0 in /usr/local/lib/python3.11/dist-packages (from matplotlib->-r requirements/build.txt (line 3)) (4.57.0)\n",
            "Requirement already satisfied: kiwisolver>=1.3.1 in /usr/local/lib/python3.11/dist-packages (from matplotlib->-r requirements/build.txt (line 3)) (1.4.8)\n",
            "Requirement already satisfied: packaging>=20.0 in /usr/local/lib/python3.11/dist-packages (from matplotlib->-r requirements/build.txt (line 3)) (24.2)\n",
            "Requirement already satisfied: pyparsing>=2.3.1 in /usr/local/lib/python3.11/dist-packages (from matplotlib->-r requirements/build.txt (line 3)) (3.2.3)\n",
            "Requirement already satisfied: python-dateutil>=2.7 in /usr/local/lib/python3.11/dist-packages (from matplotlib->-r requirements/build.txt (line 3)) (2.9.0.post0)\n",
            "Requirement already satisfied: filelock in /usr/local/lib/python3.11/dist-packages (from torch>=1.3->-r requirements/build.txt (line 8)) (3.14.0)\n",
            "Requirement already satisfied: typing-extensions in /usr/local/lib/python3.11/dist-packages (from torch>=1.3->-r requirements/build.txt (line 8)) (4.13.2)\n",
            "Requirement already satisfied: sympy in /usr/local/lib/python3.11/dist-packages (from torch>=1.3->-r requirements/build.txt (line 8)) (1.13.1)\n",
            "Requirement already satisfied: networkx in /usr/local/lib/python3.11/dist-packages (from torch>=1.3->-r requirements/build.txt (line 8)) (3.4.2)\n",
            "Requirement already satisfied: jinja2 in /usr/local/lib/python3.11/dist-packages (from torch>=1.3->-r requirements/build.txt (line 8)) (3.1.6)\n",
            "Requirement already satisfied: triton==2.0.0 in /usr/local/lib/python3.11/dist-packages (from torch>=1.3->-r requirements/build.txt (line 8)) (2.0.0)\n",
            "Requirement already satisfied: cmake in /usr/local/lib/python3.11/dist-packages (from triton==2.0.0->torch>=1.3->-r requirements/build.txt (line 8)) (3.31.6)\n",
            "Requirement already satisfied: lit in /usr/local/lib/python3.11/dist-packages (from triton==2.0.0->torch>=1.3->-r requirements/build.txt (line 8)) (15.0.7)\n",
            "Requirement already satisfied: six>=1.5 in /usr/local/lib/python3.11/dist-packages (from python-dateutil>=2.7->matplotlib->-r requirements/build.txt (line 3)) (1.17.0)\n",
            "Requirement already satisfied: MarkupSafe>=2.0 in /usr/local/lib/python3.11/dist-packages (from jinja2->torch>=1.3->-r requirements/build.txt (line 8)) (3.0.2)\n",
            "Requirement already satisfied: mpmath<1.4,>=1.1.0 in /usr/local/lib/python3.11/dist-packages (from sympy->torch>=1.3->-r requirements/build.txt (line 8)) (1.3.0)\n",
            "Using pip 24.1.2 from /usr/local/lib/python3.11/dist-packages/pip (python 3.11)\n",
            "Obtaining file:///content/dataset/mmaction2\n",
            "  Running command python setup.py egg_info\n",
            "  running egg_info\n",
            "  creating /tmp/pip-pip-egg-info-esr5pdj5/mmaction2.egg-info\n",
            "  writing manifest file '/tmp/pip-pip-egg-info-esr5pdj5/mmaction2.egg-info/SOURCES.txt'\n",
            "  warning: no files found matching 'mmaction/.mim/model-index.yml'\n",
            "  warning: no files found matching 'mmaction/.mim/dataset-index.yml'\n",
            "  warning: no files found matching '*.py' under directory 'mmaction/.mim/configs'\n",
            "  warning: no files found matching '*.yml' under directory 'mmaction/.mim/configs'\n",
            "  warning: no files found matching '*.sh' under directory 'mmaction/.mim/tools'\n",
            "  warning: no files found matching '*.py' under directory 'mmaction/.mim/tools'\n",
            "  writing manifest file '/tmp/pip-pip-egg-info-esr5pdj5/mmaction2.egg-info/SOURCES.txt'\n",
            "  Preparing metadata (setup.py) ... \u001b[?25l\u001b[?25hdone\n",
            "Requirement already satisfied: decord>=0.4.1 in /usr/local/lib/python3.11/dist-packages (from mmaction2==1.2.0) (0.6.0)\n",
            "Requirement already satisfied: einops in /usr/local/lib/python3.11/dist-packages (from mmaction2==1.2.0) (0.8.1)\n",
            "Requirement already satisfied: matplotlib in /usr/local/lib/python3.11/dist-packages (from mmaction2==1.2.0) (3.10.0)\n",
            "Requirement already satisfied: numpy in /usr/local/lib/python3.11/dist-packages (from mmaction2==1.2.0) (1.26.4)\n",
            "Requirement already satisfied: opencv-contrib-python in /usr/local/lib/python3.11/dist-packages (from mmaction2==1.2.0) (4.11.0.86)\n",
            "Requirement already satisfied: Pillow in /usr/local/lib/python3.11/dist-packages (from mmaction2==1.2.0) (11.2.1)\n",
            "Requirement already satisfied: scipy in /usr/local/lib/python3.11/dist-packages (from mmaction2==1.2.0) (1.15.2)\n",
            "Requirement already satisfied: torch>=1.3 in /usr/local/lib/python3.11/dist-packages (from mmaction2==1.2.0) (2.0.1+cu118)\n",
            "Requirement already satisfied: filelock in /usr/local/lib/python3.11/dist-packages (from torch>=1.3->mmaction2==1.2.0) (3.14.0)\n",
            "Requirement already satisfied: typing-extensions in /usr/local/lib/python3.11/dist-packages (from torch>=1.3->mmaction2==1.2.0) (4.13.2)\n",
            "Requirement already satisfied: sympy in /usr/local/lib/python3.11/dist-packages (from torch>=1.3->mmaction2==1.2.0) (1.13.1)\n",
            "Requirement already satisfied: networkx in /usr/local/lib/python3.11/dist-packages (from torch>=1.3->mmaction2==1.2.0) (3.4.2)\n",
            "Requirement already satisfied: jinja2 in /usr/local/lib/python3.11/dist-packages (from torch>=1.3->mmaction2==1.2.0) (3.1.6)\n",
            "Requirement already satisfied: triton==2.0.0 in /usr/local/lib/python3.11/dist-packages (from torch>=1.3->mmaction2==1.2.0) (2.0.0)\n",
            "Requirement already satisfied: cmake in /usr/local/lib/python3.11/dist-packages (from triton==2.0.0->torch>=1.3->mmaction2==1.2.0) (3.31.6)\n",
            "Requirement already satisfied: lit in /usr/local/lib/python3.11/dist-packages (from triton==2.0.0->torch>=1.3->mmaction2==1.2.0) (15.0.7)\n",
            "Requirement already satisfied: contourpy>=1.0.1 in /usr/local/lib/python3.11/dist-packages (from matplotlib->mmaction2==1.2.0) (1.3.2)\n",
            "Requirement already satisfied: cycler>=0.10 in /usr/local/lib/python3.11/dist-packages (from matplotlib->mmaction2==1.2.0) (0.12.1)\n",
            "Requirement already satisfied: fonttools>=4.22.0 in /usr/local/lib/python3.11/dist-packages (from matplotlib->mmaction2==1.2.0) (4.57.0)\n",
            "Requirement already satisfied: kiwisolver>=1.3.1 in /usr/local/lib/python3.11/dist-packages (from matplotlib->mmaction2==1.2.0) (1.4.8)\n",
            "Requirement already satisfied: packaging>=20.0 in /usr/local/lib/python3.11/dist-packages (from matplotlib->mmaction2==1.2.0) (24.2)\n",
            "Requirement already satisfied: pyparsing>=2.3.1 in /usr/local/lib/python3.11/dist-packages (from matplotlib->mmaction2==1.2.0) (3.2.3)\n",
            "Requirement already satisfied: python-dateutil>=2.7 in /usr/local/lib/python3.11/dist-packages (from matplotlib->mmaction2==1.2.0) (2.9.0.post0)\n",
            "Requirement already satisfied: six>=1.5 in /usr/local/lib/python3.11/dist-packages (from python-dateutil>=2.7->matplotlib->mmaction2==1.2.0) (1.17.0)\n",
            "Requirement already satisfied: MarkupSafe>=2.0 in /usr/local/lib/python3.11/dist-packages (from jinja2->torch>=1.3->mmaction2==1.2.0) (3.0.2)\n",
            "Requirement already satisfied: mpmath<1.4,>=1.1.0 in /usr/local/lib/python3.11/dist-packages (from sympy->torch>=1.3->mmaction2==1.2.0) (1.3.0)\n",
            "Installing collected packages: mmaction2\n",
            "  Attempting uninstall: mmaction2\n",
            "    Found existing installation: mmaction2 1.2.0\n",
            "    Uninstalling mmaction2-1.2.0:\n",
            "      Removing file or directory /usr/local/lib/python3.11/dist-packages/mmaction2.egg-link\n",
            "      Removing pth entries from /usr/local/lib/python3.11/dist-packages/easy-install.pth:\n",
            "      Removing entry: /content/mmaction2\n",
            "      Successfully uninstalled mmaction2-1.2.0\n",
            "  Running setup.py develop for mmaction2\n",
            "    Running command python setup.py develop\n",
            "    running develop\n",
            "    /usr/local/lib/python3.11/dist-packages/setuptools/command/easy_install.py:156: EasyInstallDeprecationWarning: easy_install command is deprecated. Use build and pip and other standards-based tools.\n",
            "      warnings.warn(\n",
            "    /usr/local/lib/python3.11/dist-packages/setuptools/command/install.py:34: SetuptoolsDeprecationWarning: setup.py install is deprecated. Use build and pip and other standards-based tools.\n",
            "      warnings.warn(\n",
            "    running egg_info\n",
            "    creating mmaction2.egg-info\n",
            "    writing manifest file 'mmaction2.egg-info/SOURCES.txt'\n",
            "    writing manifest file 'mmaction2.egg-info/SOURCES.txt'\n",
            "    running build_ext\n",
            "Successfully installed mmaction2-1.2.0\n",
            "tools/train.py\n"
          ]
        }
      ]
    },
    {
      "cell_type": "code",
      "source": [
        "# Isto cria o ficheiro automaticamente no sítio certo\n",
        "# criar ficheiro para configurar o treino do modelo\n",
        "# config_code = \"\"\"\n",
        "# model = dict(\n",
        "#     type='STGCN',\n",
        "#     backbone=dict(\n",
        "#         type='STGCN',\n",
        "#         graph_cfg=dict(layout='openpose', mode='spatial'),\n",
        "#         pretrained='https://download.openmmlab.com/mmaction/stgcn/stgcn_50-pyslowfast-kinetics400-pretrained.pth'\n",
        "#     ),\n",
        "#     cls_head=dict(type='STGCNHead', num_classes=12, in_channels=256)\n",
        "# )\n",
        "\n",
        "# dataset_type = 'PoseDataset'\n",
        "# data = dict(\n",
        "#     videos_per_gpu=64,\n",
        "#     workers_per_gpu=2,\n",
        "#     train=dict(type=dataset_type, ann_file='dataset/train_set.pkl', data_prefix=''),\n",
        "#     val=dict(type=dataset_type, ann_file='dataset/val_set.pkl', data_prefix=''),\n",
        "#     test=dict(type=dataset_type, ann_file='dataset/test_set.pkl', data_prefix='')\n",
        "# )\n",
        "\n",
        "# optimizer = dict(type='Adam', lr=0.0003, weight_decay=0.0005)\n",
        "# optimizer_config = dict(grad_clip=None)\n",
        "\n",
        "# lr_config = dict(policy='CosineAnnealing', min_lr=0)\n",
        "# total_epochs = 10\n",
        "# checkpoint_config = dict(interval=10)\n",
        "\n",
        "# evaluation = dict(\n",
        "#     interval=1,\n",
        "#     metrics=['top_k_accuracy', 'mean_class_accuracy'],\n",
        "#     metric_options=dict(top_k_accuracy=dict(topk=(1, 3)))\n",
        "# )\n",
        "\n",
        "# log_config = dict(\n",
        "#     interval=20,\n",
        "#     hooks=[dict(type='TextLoggerHook')]\n",
        "# )\n",
        "\n",
        "# work_dir = './work_dirs/stgcn_50_tennis'\n",
        "# \"\"\"\n",
        "\n",
        "# # Gravar para o ficheiro na pasta configs/stgcn/\n",
        "# with open('dataset/mmaction2/configs/stgcn/stgcn_50-tennis.py', 'w') as f:\n",
        "#     f.write(config_code)\n",
        "\n"
      ],
      "metadata": {
        "id": "nls4QSlJXRtQ"
      },
      "execution_count": 12,
      "outputs": []
    },
    {
      "cell_type": "code",
      "source": [
        "os.getcwd()"
      ],
      "metadata": {
        "colab": {
          "base_uri": "https://localhost:8080/",
          "height": 36
        },
        "id": "lu1gsxGHCXVB",
        "outputId": "a488ab6c-1fbe-46a6-8515-d0acf945f900"
      },
      "execution_count": 13,
      "outputs": [
        {
          "output_type": "execute_result",
          "data": {
            "text/plain": [
              "'/content/dataset/mmaction2'"
            ],
            "application/vnd.google.colaboratory.intrinsic+json": {
              "type": "string"
            }
          },
          "metadata": {},
          "execution_count": 13
        }
      ]
    },
    {
      "cell_type": "code",
      "source": [
        "# Isto cria o ficheiro automaticamente no sítio certo\n",
        "# criar ficheiro para configurar o treino do modelo\n",
        "\n",
        "# Cria as pastas necessárias se ainda não existirem\n",
        "os.makedirs('configs/stgcn', exist_ok=True)\n",
        "\n",
        "config_code = \"\"\"\n",
        "_base_ = '../../configs/skeleton/stgcn/stgcn_8xb16-joint-u100-80e_ntu60-xsub-keypoint-2d.py'\n",
        "\n",
        "model = dict(\n",
        "    cls_head=dict(num_classes=12))\n",
        "\n",
        "dataset_type = 'PoseDataset'\n",
        "data = dict(\n",
        "    videos_per_gpu=64,\n",
        "    workers_per_gpu=2,\n",
        "    train=dict(type=dataset_type, ann_file='dataset/train_set.pkl'),\n",
        "    val=dict(type=dataset_type, ann_file='dataset/val_set.pkl'),\n",
        "    test=dict(type=dataset_type, ann_file='dataset/test_set.pkl'))\n",
        "\n",
        "optimizer = dict(type='Adam', lr=0.0003, weight_decay=0.0005)\n",
        "total_epochs = 10\n",
        "\"\"\"\n",
        "\n",
        "# Gravar para o ficheiro na pasta configs/stgcn/\n",
        "with open('configs/stgcn/stgcn_50-tennis.py', 'w') as f:\n",
        "    f.write(config_code)\n",
        "\n",
        "\n"
      ],
      "metadata": {
        "id": "e5nG1HFrd6Fn"
      },
      "execution_count": 14,
      "outputs": []
    },
    {
      "cell_type": "code",
      "source": [
        "!pip install -U openmim\n",
        "!mim install mmengine\n",
        "!mim install mmcv\n",
        "!mim install mmdet\n",
        "!mim install mmpose"
      ],
      "metadata": {
        "colab": {
          "base_uri": "https://localhost:8080/"
        },
        "id": "5QkHsZRGlTgv",
        "outputId": "d40ad3ce-3551-4fc3-8b58-cc8a17f718e7"
      },
      "execution_count": 15,
      "outputs": [
        {
          "output_type": "stream",
          "name": "stdout",
          "text": [
            "Requirement already satisfied: openmim in /usr/local/lib/python3.11/dist-packages (0.3.9)\n",
            "Requirement already satisfied: Click in /usr/local/lib/python3.11/dist-packages (from openmim) (8.1.8)\n",
            "Requirement already satisfied: colorama in /usr/local/lib/python3.11/dist-packages (from openmim) (0.4.6)\n",
            "Requirement already satisfied: model-index in /usr/local/lib/python3.11/dist-packages (from openmim) (0.1.11)\n",
            "Requirement already satisfied: opendatalab in /usr/local/lib/python3.11/dist-packages (from openmim) (0.0.10)\n",
            "Requirement already satisfied: pandas in /usr/local/lib/python3.11/dist-packages (from openmim) (2.2.2)\n",
            "Requirement already satisfied: pip>=19.3 in /usr/local/lib/python3.11/dist-packages (from openmim) (24.1.2)\n",
            "Requirement already satisfied: requests in /usr/local/lib/python3.11/dist-packages (from openmim) (2.28.2)\n",
            "Requirement already satisfied: rich in /usr/local/lib/python3.11/dist-packages (from openmim) (13.4.2)\n",
            "Requirement already satisfied: tabulate in /usr/local/lib/python3.11/dist-packages (from openmim) (0.9.0)\n",
            "Requirement already satisfied: pyyaml in /usr/local/lib/python3.11/dist-packages (from model-index->openmim) (6.0.2)\n",
            "Requirement already satisfied: markdown in /usr/local/lib/python3.11/dist-packages (from model-index->openmim) (3.8)\n",
            "Requirement already satisfied: ordered-set in /usr/local/lib/python3.11/dist-packages (from model-index->openmim) (4.1.0)\n",
            "Requirement already satisfied: pycryptodome in /usr/local/lib/python3.11/dist-packages (from opendatalab->openmim) (3.22.0)\n",
            "Requirement already satisfied: tqdm in /usr/local/lib/python3.11/dist-packages (from opendatalab->openmim) (4.65.2)\n",
            "Requirement already satisfied: openxlab in /usr/local/lib/python3.11/dist-packages (from opendatalab->openmim) (0.1.2)\n",
            "Requirement already satisfied: charset-normalizer<4,>=2 in /usr/local/lib/python3.11/dist-packages (from requests->openmim) (3.4.1)\n",
            "Requirement already satisfied: idna<4,>=2.5 in /usr/local/lib/python3.11/dist-packages (from requests->openmim) (3.10)\n",
            "Requirement already satisfied: urllib3<1.27,>=1.21.1 in /usr/local/lib/python3.11/dist-packages (from requests->openmim) (1.26.20)\n",
            "Requirement already satisfied: certifi>=2017.4.17 in /usr/local/lib/python3.11/dist-packages (from requests->openmim) (2025.4.26)\n",
            "Requirement already satisfied: numpy>=1.23.2 in /usr/local/lib/python3.11/dist-packages (from pandas->openmim) (1.26.4)\n",
            "Requirement already satisfied: python-dateutil>=2.8.2 in /usr/local/lib/python3.11/dist-packages (from pandas->openmim) (2.9.0.post0)\n",
            "Requirement already satisfied: pytz>=2020.1 in /usr/local/lib/python3.11/dist-packages (from pandas->openmim) (2023.4)\n",
            "Requirement already satisfied: tzdata>=2022.7 in /usr/local/lib/python3.11/dist-packages (from pandas->openmim) (2025.2)\n",
            "Requirement already satisfied: markdown-it-py>=2.2.0 in /usr/local/lib/python3.11/dist-packages (from rich->openmim) (3.0.0)\n",
            "Requirement already satisfied: pygments<3.0.0,>=2.13.0 in /usr/local/lib/python3.11/dist-packages (from rich->openmim) (2.19.1)\n",
            "Requirement already satisfied: mdurl~=0.1 in /usr/local/lib/python3.11/dist-packages (from markdown-it-py>=2.2.0->rich->openmim) (0.1.2)\n",
            "Requirement already satisfied: six>=1.5 in /usr/local/lib/python3.11/dist-packages (from python-dateutil>=2.8.2->pandas->openmim) (1.17.0)\n",
            "Requirement already satisfied: filelock~=3.14.0 in /usr/local/lib/python3.11/dist-packages (from openxlab->opendatalab->openmim) (3.14.0)\n",
            "Requirement already satisfied: oss2~=2.17.0 in /usr/local/lib/python3.11/dist-packages (from openxlab->opendatalab->openmim) (2.17.0)\n",
            "Requirement already satisfied: packaging~=24.0 in /usr/local/lib/python3.11/dist-packages (from openxlab->opendatalab->openmim) (24.2)\n",
            "Requirement already satisfied: setuptools~=60.2.0 in /usr/local/lib/python3.11/dist-packages (from openxlab->opendatalab->openmim) (60.2.0)\n",
            "Requirement already satisfied: crcmod>=1.7 in /usr/local/lib/python3.11/dist-packages (from oss2~=2.17.0->openxlab->opendatalab->openmim) (1.7)\n",
            "Requirement already satisfied: aliyun-python-sdk-kms>=2.4.1 in /usr/local/lib/python3.11/dist-packages (from oss2~=2.17.0->openxlab->opendatalab->openmim) (2.16.5)\n",
            "Requirement already satisfied: aliyun-python-sdk-core>=2.13.12 in /usr/local/lib/python3.11/dist-packages (from oss2~=2.17.0->openxlab->opendatalab->openmim) (2.16.0)\n",
            "Requirement already satisfied: jmespath<1.0.0,>=0.9.3 in /usr/local/lib/python3.11/dist-packages (from aliyun-python-sdk-core>=2.13.12->oss2~=2.17.0->openxlab->opendatalab->openmim) (0.10.0)\n",
            "Requirement already satisfied: cryptography>=3.0.0 in /usr/local/lib/python3.11/dist-packages (from aliyun-python-sdk-core>=2.13.12->oss2~=2.17.0->openxlab->opendatalab->openmim) (43.0.3)\n",
            "Requirement already satisfied: cffi>=1.12 in /usr/local/lib/python3.11/dist-packages (from cryptography>=3.0.0->aliyun-python-sdk-core>=2.13.12->oss2~=2.17.0->openxlab->opendatalab->openmim) (1.17.1)\n",
            "Requirement already satisfied: pycparser in /usr/local/lib/python3.11/dist-packages (from cffi>=1.12->cryptography>=3.0.0->aliyun-python-sdk-core>=2.13.12->oss2~=2.17.0->openxlab->opendatalab->openmim) (2.22)\n",
            "Looking in links: https://download.openmmlab.com/mmcv/dist/cu118/torch2.0.0/index.html\n",
            "Requirement already satisfied: mmengine in /usr/local/lib/python3.11/dist-packages (0.10.7)\n",
            "Requirement already satisfied: addict in /usr/local/lib/python3.11/dist-packages (from mmengine) (2.4.0)\n",
            "Requirement already satisfied: matplotlib in /usr/local/lib/python3.11/dist-packages (from mmengine) (3.10.0)\n",
            "Requirement already satisfied: numpy in /usr/local/lib/python3.11/dist-packages (from mmengine) (1.26.4)\n",
            "Requirement already satisfied: pyyaml in /usr/local/lib/python3.11/dist-packages (from mmengine) (6.0.2)\n",
            "Requirement already satisfied: rich in /usr/local/lib/python3.11/dist-packages (from mmengine) (13.4.2)\n",
            "Requirement already satisfied: termcolor in /usr/local/lib/python3.11/dist-packages (from mmengine) (3.1.0)\n",
            "Requirement already satisfied: yapf in /usr/local/lib/python3.11/dist-packages (from mmengine) (0.43.0)\n",
            "Requirement already satisfied: opencv-python>=3 in /usr/local/lib/python3.11/dist-packages (from mmengine) (4.11.0.86)\n",
            "Requirement already satisfied: contourpy>=1.0.1 in /usr/local/lib/python3.11/dist-packages (from matplotlib->mmengine) (1.3.2)\n",
            "Requirement already satisfied: cycler>=0.10 in /usr/local/lib/python3.11/dist-packages (from matplotlib->mmengine) (0.12.1)\n",
            "Requirement already satisfied: fonttools>=4.22.0 in /usr/local/lib/python3.11/dist-packages (from matplotlib->mmengine) (4.57.0)\n",
            "Requirement already satisfied: kiwisolver>=1.3.1 in /usr/local/lib/python3.11/dist-packages (from matplotlib->mmengine) (1.4.8)\n",
            "Requirement already satisfied: packaging>=20.0 in /usr/local/lib/python3.11/dist-packages (from matplotlib->mmengine) (24.2)\n",
            "Requirement already satisfied: pillow>=8 in /usr/local/lib/python3.11/dist-packages (from matplotlib->mmengine) (11.2.1)\n",
            "Requirement already satisfied: pyparsing>=2.3.1 in /usr/local/lib/python3.11/dist-packages (from matplotlib->mmengine) (3.2.3)\n",
            "Requirement already satisfied: python-dateutil>=2.7 in /usr/local/lib/python3.11/dist-packages (from matplotlib->mmengine) (2.9.0.post0)\n",
            "Requirement already satisfied: markdown-it-py>=2.2.0 in /usr/local/lib/python3.11/dist-packages (from rich->mmengine) (3.0.0)\n",
            "Requirement already satisfied: pygments<3.0.0,>=2.13.0 in /usr/local/lib/python3.11/dist-packages (from rich->mmengine) (2.19.1)\n",
            "Requirement already satisfied: platformdirs>=3.5.1 in /usr/local/lib/python3.11/dist-packages (from yapf->mmengine) (4.3.7)\n",
            "Requirement already satisfied: mdurl~=0.1 in /usr/local/lib/python3.11/dist-packages (from markdown-it-py>=2.2.0->rich->mmengine) (0.1.2)\n",
            "Requirement already satisfied: six>=1.5 in /usr/local/lib/python3.11/dist-packages (from python-dateutil>=2.7->matplotlib->mmengine) (1.17.0)\n",
            "Looking in links: https://download.openmmlab.com/mmcv/dist/cu118/torch2.0.0/index.html\n",
            "Requirement already satisfied: mmcv in /usr/local/lib/python3.11/dist-packages (2.2.0)\n",
            "Requirement already satisfied: addict in /usr/local/lib/python3.11/dist-packages (from mmcv) (2.4.0)\n",
            "Requirement already satisfied: mmengine>=0.3.0 in /usr/local/lib/python3.11/dist-packages (from mmcv) (0.10.7)\n",
            "Requirement already satisfied: numpy in /usr/local/lib/python3.11/dist-packages (from mmcv) (1.26.4)\n",
            "Requirement already satisfied: packaging in /usr/local/lib/python3.11/dist-packages (from mmcv) (24.2)\n",
            "Requirement already satisfied: Pillow in /usr/local/lib/python3.11/dist-packages (from mmcv) (11.2.1)\n",
            "Requirement already satisfied: pyyaml in /usr/local/lib/python3.11/dist-packages (from mmcv) (6.0.2)\n",
            "Requirement already satisfied: yapf in /usr/local/lib/python3.11/dist-packages (from mmcv) (0.43.0)\n",
            "Requirement already satisfied: opencv-python>=3 in /usr/local/lib/python3.11/dist-packages (from mmcv) (4.11.0.86)\n",
            "Requirement already satisfied: matplotlib in /usr/local/lib/python3.11/dist-packages (from mmengine>=0.3.0->mmcv) (3.10.0)\n",
            "Requirement already satisfied: rich in /usr/local/lib/python3.11/dist-packages (from mmengine>=0.3.0->mmcv) (13.4.2)\n",
            "Requirement already satisfied: termcolor in /usr/local/lib/python3.11/dist-packages (from mmengine>=0.3.0->mmcv) (3.1.0)\n",
            "Requirement already satisfied: platformdirs>=3.5.1 in /usr/local/lib/python3.11/dist-packages (from yapf->mmcv) (4.3.7)\n",
            "Requirement already satisfied: contourpy>=1.0.1 in /usr/local/lib/python3.11/dist-packages (from matplotlib->mmengine>=0.3.0->mmcv) (1.3.2)\n",
            "Requirement already satisfied: cycler>=0.10 in /usr/local/lib/python3.11/dist-packages (from matplotlib->mmengine>=0.3.0->mmcv) (0.12.1)\n",
            "Requirement already satisfied: fonttools>=4.22.0 in /usr/local/lib/python3.11/dist-packages (from matplotlib->mmengine>=0.3.0->mmcv) (4.57.0)\n",
            "Requirement already satisfied: kiwisolver>=1.3.1 in /usr/local/lib/python3.11/dist-packages (from matplotlib->mmengine>=0.3.0->mmcv) (1.4.8)\n",
            "Requirement already satisfied: pyparsing>=2.3.1 in /usr/local/lib/python3.11/dist-packages (from matplotlib->mmengine>=0.3.0->mmcv) (3.2.3)\n",
            "Requirement already satisfied: python-dateutil>=2.7 in /usr/local/lib/python3.11/dist-packages (from matplotlib->mmengine>=0.3.0->mmcv) (2.9.0.post0)\n",
            "Requirement already satisfied: markdown-it-py>=2.2.0 in /usr/local/lib/python3.11/dist-packages (from rich->mmengine>=0.3.0->mmcv) (3.0.0)\n",
            "Requirement already satisfied: pygments<3.0.0,>=2.13.0 in /usr/local/lib/python3.11/dist-packages (from rich->mmengine>=0.3.0->mmcv) (2.19.1)\n",
            "Requirement already satisfied: mdurl~=0.1 in /usr/local/lib/python3.11/dist-packages (from markdown-it-py>=2.2.0->rich->mmengine>=0.3.0->mmcv) (0.1.2)\n",
            "Requirement already satisfied: six>=1.5 in /usr/local/lib/python3.11/dist-packages (from python-dateutil>=2.7->matplotlib->mmengine>=0.3.0->mmcv) (1.17.0)\n",
            "Looking in links: https://download.openmmlab.com/mmcv/dist/cu118/torch2.0.0/index.html\n",
            "Requirement already satisfied: mmdet in /usr/local/lib/python3.11/dist-packages (3.3.0)\n",
            "Ignoring mmcv: markers 'extra == \"mim\"' don't match your environment\n",
            "Ignoring mmengine: markers 'extra == \"mim\"' don't match your environment\n",
            "Requirement already satisfied: matplotlib in /usr/local/lib/python3.11/dist-packages (from mmdet) (3.10.0)\n",
            "Requirement already satisfied: numpy in /usr/local/lib/python3.11/dist-packages (from mmdet) (1.26.4)\n",
            "Requirement already satisfied: pycocotools in /usr/local/lib/python3.11/dist-packages (from mmdet) (2.0.8)\n",
            "Requirement already satisfied: scipy in /usr/local/lib/python3.11/dist-packages (from mmdet) (1.15.2)\n",
            "Requirement already satisfied: shapely in /usr/local/lib/python3.11/dist-packages (from mmdet) (2.1.0)\n",
            "Requirement already satisfied: six in /usr/local/lib/python3.11/dist-packages (from mmdet) (1.17.0)\n",
            "Requirement already satisfied: terminaltables in /usr/local/lib/python3.11/dist-packages (from mmdet) (3.1.10)\n",
            "Requirement already satisfied: tqdm in /usr/local/lib/python3.11/dist-packages (from mmdet) (4.65.2)\n",
            "Requirement already satisfied: contourpy>=1.0.1 in /usr/local/lib/python3.11/dist-packages (from matplotlib->mmdet) (1.3.2)\n",
            "Requirement already satisfied: cycler>=0.10 in /usr/local/lib/python3.11/dist-packages (from matplotlib->mmdet) (0.12.1)\n",
            "Requirement already satisfied: fonttools>=4.22.0 in /usr/local/lib/python3.11/dist-packages (from matplotlib->mmdet) (4.57.0)\n",
            "Requirement already satisfied: kiwisolver>=1.3.1 in /usr/local/lib/python3.11/dist-packages (from matplotlib->mmdet) (1.4.8)\n",
            "Requirement already satisfied: packaging>=20.0 in /usr/local/lib/python3.11/dist-packages (from matplotlib->mmdet) (24.2)\n",
            "Requirement already satisfied: pillow>=8 in /usr/local/lib/python3.11/dist-packages (from matplotlib->mmdet) (11.2.1)\n",
            "Requirement already satisfied: pyparsing>=2.3.1 in /usr/local/lib/python3.11/dist-packages (from matplotlib->mmdet) (3.2.3)\n",
            "Requirement already satisfied: python-dateutil>=2.7 in /usr/local/lib/python3.11/dist-packages (from matplotlib->mmdet) (2.9.0.post0)\n",
            "Looking in links: https://download.openmmlab.com/mmcv/dist/cu118/torch2.0.0/index.html\n",
            "Requirement already satisfied: mmpose in /usr/local/lib/python3.11/dist-packages (1.3.2)\n",
            "Ignoring mmcv: markers 'extra == \"mim\"' don't match your environment\n",
            "Ignoring mmdet: markers 'extra == \"mim\"' don't match your environment\n",
            "Ignoring mmengine: markers 'extra == \"mim\"' don't match your environment\n",
            "Requirement already satisfied: chumpy in /usr/local/lib/python3.11/dist-packages (from mmpose) (0.70)\n",
            "Requirement already satisfied: json-tricks in /usr/local/lib/python3.11/dist-packages (from mmpose) (3.17.3)\n",
            "Requirement already satisfied: matplotlib in /usr/local/lib/python3.11/dist-packages (from mmpose) (3.10.0)\n",
            "Requirement already satisfied: munkres in /usr/local/lib/python3.11/dist-packages (from mmpose) (1.1.4)\n",
            "Requirement already satisfied: numpy in /usr/local/lib/python3.11/dist-packages (from mmpose) (1.26.4)\n",
            "Requirement already satisfied: opencv-python in /usr/local/lib/python3.11/dist-packages (from mmpose) (4.11.0.86)\n",
            "Requirement already satisfied: pillow in /usr/local/lib/python3.11/dist-packages (from mmpose) (11.2.1)\n",
            "Requirement already satisfied: scipy in /usr/local/lib/python3.11/dist-packages (from mmpose) (1.15.2)\n",
            "Requirement already satisfied: torchvision in /usr/local/lib/python3.11/dist-packages (from mmpose) (0.15.2+cu118)\n",
            "Requirement already satisfied: xtcocotools>=1.12 in /usr/local/lib/python3.11/dist-packages (from mmpose) (1.14.3)\n",
            "Requirement already satisfied: setuptools>=18.0 in /usr/local/lib/python3.11/dist-packages (from xtcocotools>=1.12->mmpose) (60.2.0)\n",
            "Requirement already satisfied: cython>=0.27.3 in /usr/local/lib/python3.11/dist-packages (from xtcocotools>=1.12->mmpose) (3.0.12)\n",
            "Requirement already satisfied: contourpy>=1.0.1 in /usr/local/lib/python3.11/dist-packages (from matplotlib->mmpose) (1.3.2)\n",
            "Requirement already satisfied: cycler>=0.10 in /usr/local/lib/python3.11/dist-packages (from matplotlib->mmpose) (0.12.1)\n",
            "Requirement already satisfied: fonttools>=4.22.0 in /usr/local/lib/python3.11/dist-packages (from matplotlib->mmpose) (4.57.0)\n",
            "Requirement already satisfied: kiwisolver>=1.3.1 in /usr/local/lib/python3.11/dist-packages (from matplotlib->mmpose) (1.4.8)\n",
            "Requirement already satisfied: packaging>=20.0 in /usr/local/lib/python3.11/dist-packages (from matplotlib->mmpose) (24.2)\n",
            "Requirement already satisfied: pyparsing>=2.3.1 in /usr/local/lib/python3.11/dist-packages (from matplotlib->mmpose) (3.2.3)\n",
            "Requirement already satisfied: python-dateutil>=2.7 in /usr/local/lib/python3.11/dist-packages (from matplotlib->mmpose) (2.9.0.post0)\n",
            "Requirement already satisfied: six>=1.11.0 in /usr/local/lib/python3.11/dist-packages (from chumpy->mmpose) (1.17.0)\n",
            "Requirement already satisfied: requests in /usr/local/lib/python3.11/dist-packages (from torchvision->mmpose) (2.28.2)\n",
            "Requirement already satisfied: torch==2.0.1 in /usr/local/lib/python3.11/dist-packages (from torchvision->mmpose) (2.0.1+cu118)\n",
            "Requirement already satisfied: filelock in /usr/local/lib/python3.11/dist-packages (from torch==2.0.1->torchvision->mmpose) (3.14.0)\n",
            "Requirement already satisfied: typing-extensions in /usr/local/lib/python3.11/dist-packages (from torch==2.0.1->torchvision->mmpose) (4.13.2)\n",
            "Requirement already satisfied: sympy in /usr/local/lib/python3.11/dist-packages (from torch==2.0.1->torchvision->mmpose) (1.13.1)\n",
            "Requirement already satisfied: networkx in /usr/local/lib/python3.11/dist-packages (from torch==2.0.1->torchvision->mmpose) (3.4.2)\n",
            "Requirement already satisfied: jinja2 in /usr/local/lib/python3.11/dist-packages (from torch==2.0.1->torchvision->mmpose) (3.1.6)\n",
            "Requirement already satisfied: triton==2.0.0 in /usr/local/lib/python3.11/dist-packages (from torch==2.0.1->torchvision->mmpose) (2.0.0)\n",
            "Requirement already satisfied: cmake in /usr/local/lib/python3.11/dist-packages (from triton==2.0.0->torch==2.0.1->torchvision->mmpose) (3.31.6)\n",
            "Requirement already satisfied: lit in /usr/local/lib/python3.11/dist-packages (from triton==2.0.0->torch==2.0.1->torchvision->mmpose) (15.0.7)\n",
            "Requirement already satisfied: charset-normalizer<4,>=2 in /usr/local/lib/python3.11/dist-packages (from requests->torchvision->mmpose) (3.4.1)\n",
            "Requirement already satisfied: idna<4,>=2.5 in /usr/local/lib/python3.11/dist-packages (from requests->torchvision->mmpose) (3.10)\n",
            "Requirement already satisfied: urllib3<1.27,>=1.21.1 in /usr/local/lib/python3.11/dist-packages (from requests->torchvision->mmpose) (1.26.20)\n",
            "Requirement already satisfied: certifi>=2017.4.17 in /usr/local/lib/python3.11/dist-packages (from requests->torchvision->mmpose) (2025.4.26)\n",
            "Requirement already satisfied: MarkupSafe>=2.0 in /usr/local/lib/python3.11/dist-packages (from jinja2->torch==2.0.1->torchvision->mmpose) (3.0.2)\n",
            "Requirement already satisfied: mpmath<1.4,>=1.1.0 in /usr/local/lib/python3.11/dist-packages (from sympy->torch==2.0.1->torchvision->mmpose) (1.3.0)\n"
          ]
        }
      ]
    },
    {
      "cell_type": "code",
      "source": [
        "#instalar motor principal (mmengine) e biblioteca auxiliar com operações úteis e extensões para PyTorch (mmcv)\n",
        "#!pip install mmengine mmcv\n",
        "\n",
        "import mmengine\n",
        "\n",
        "#verificar instalacao\n",
        "print(mmengine.__version__)"
      ],
      "metadata": {
        "colab": {
          "base_uri": "https://localhost:8080/"
        },
        "id": "cSHIcTo4FJyR",
        "outputId": "b9bca47d-064e-4660-d21c-20dcd6bb96ee"
      },
      "execution_count": 16,
      "outputs": [
        {
          "output_type": "stream",
          "name": "stdout",
          "text": [
            "0.10.7\n"
          ]
        }
      ]
    },
    {
      "cell_type": "code",
      "source": [
        "!python tools/train.py configs/stgcn/stgcn_50-tennis.py"
      ],
      "metadata": {
        "colab": {
          "base_uri": "https://localhost:8080/"
        },
        "id": "7Ye3IndAQNzw",
        "outputId": "2a4e44c5-09c8-4adf-c551-beb5b75a59dd"
      },
      "execution_count": 17,
      "outputs": [
        {
          "output_type": "stream",
          "name": "stdout",
          "text": [
            "Traceback (most recent call last):\n",
            "  File \"/content/dataset/mmaction2/tools/train.py\", line 9, in <module>\n",
            "    from mmaction.registry import RUNNERS\n",
            "  File \"/content/dataset/mmaction2/mmaction/__init__.py\", line 16, in <module>\n",
            "    assert (digit_version(mmcv_minimum_version) <= mmcv_version\n",
            "            ^^^^^^^^^^^^^^^^^^^^^^^^^^^^^^^^^^^^^^^^^^^^^^^^^^^\n",
            "AssertionError: MMCV==2.2.0 is used but incompatible. Please install mmcv>=2.0.0rc4, <2.2.0.\n"
          ]
        }
      ]
    }
  ]
}