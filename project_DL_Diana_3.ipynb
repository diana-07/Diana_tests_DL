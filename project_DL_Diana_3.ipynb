{
  "nbformat": 4,
  "nbformat_minor": 0,
  "metadata": {
    "colab": {
      "provenance": [],
      "gpuType": "T4",
      "authorship_tag": "ABX9TyP00Vk21htjfSkMqK1lzi7D",
      "include_colab_link": true
    },
    "kernelspec": {
      "name": "python3",
      "display_name": "Python 3"
    },
    "language_info": {
      "name": "python"
    },
    "accelerator": "GPU"
  },
  "cells": [
    {
      "cell_type": "markdown",
      "metadata": {
        "id": "view-in-github",
        "colab_type": "text"
      },
      "source": [
        "<a href=\"https://colab.research.google.com/github/diana-07/Diana_tests_DL/blob/main/project_DL_Diana_3.ipynb\" target=\"_parent\"><img src=\"https://colab.research.google.com/assets/colab-badge.svg\" alt=\"Open In Colab\"/></a>"
      ]
    },
    {
      "cell_type": "code",
      "source": [
        "# #eliminar pasta dataset caso seja necessário\n",
        "# import shutil\n",
        "# import os\n",
        "\n",
        "# os.chdir('/content')\n",
        "# print(os.getcwd())\n",
        "\n",
        "# # Caminho para a pasta a apagar\n",
        "# dir_path = \"dataset\"\n",
        "\n",
        "# # Só apaga se existir\n",
        "# if os.path.exists(dir_path):\n",
        "#     shutil.rmtree(dir_path)\n",
        "#     print(f\"Pasta '{dir_path}' apagada com sucesso.\")\n",
        "# else:\n",
        "#     print(f\"Pasta '{dir_path}' não existe.\")\n"
      ],
      "metadata": {
        "id": "WCpq0-QwjRxv"
      },
      "execution_count": 1,
      "outputs": []
    },
    {
      "cell_type": "code",
      "source": [
        "import os\n",
        "import shutil\n",
        "import sys\n",
        "\n",
        "#IMPORTANTE: BAIXAR ANTES O FICHEIRO prepare_data.py\n",
        "\n",
        "# 1. Remover pasta 'dataset' se já existir\n",
        "if os.path.exists(\"dataset\"):\n",
        "    shutil.rmtree(\"dataset\")\n",
        "    print(\"Pasta 'dataset' removida.\")\n",
        "\n",
        "# 2. Clonar o repositório com checkout parcial\n",
        "os.system(\"git clone --filter=blob:none --no-checkout https://github.com/THETIS-dataset/dataset.git\")\n",
        "\n",
        "# 3. Entrar na pasta 'dataset' e configurar checkout parcial\n",
        "os.chdir(\"dataset\")\n",
        "os.system(\"git sparse-checkout init --cone\")\n",
        "os.system(\"git sparse-checkout set VIDEO_Skelet3D\")\n",
        "os.system(\"git checkout\")\n",
        "print(\"Clone e checkout parcial concluídos.\")\n",
        "\n",
        "# 4. Voltar ao diretório anterior\n",
        "os.chdir(\"..\")\n",
        "\n",
        "\n",
        "# 5. Procurar prepare_data.py fora da pasta 'dataset'\n",
        "nome_arquivo = \"prepare_data.py\"\n",
        "caminho_encontrado = None\n",
        "\n",
        "for raiz, dirs, arquivos in os.walk(\".\"):\n",
        "    if nome_arquivo in arquivos and \"dataset\" not in raiz:\n",
        "        caminho_encontrado = os.path.join(raiz, nome_arquivo)\n",
        "        break\n",
        "\n",
        "# 6. Mover o prepare_data.py para dentro de 'dataset'\n",
        "if caminho_encontrado:\n",
        "    destino_final = os.path.join(\"dataset\", nome_arquivo)\n",
        "    shutil.move(caminho_encontrado, destino_final)\n",
        "    print(f\"{nome_arquivo} movido para a pasta 'dataset'.\")\n",
        "else:\n",
        "    print(f\"Arquivo {nome_arquivo} não encontrado fora da pasta 'dataset'.\")\n",
        "\n",
        "# 7. Adicionar 'dataset' ao sys.path para permitir importações\n",
        "dataset_path = os.path.abspath(\"dataset\")\n",
        "if dataset_path not in sys.path:\n",
        "    sys.path.append(dataset_path)\n",
        "\n",
        "# 8. Agora já podes importar a função\n",
        "try:\n",
        "    from prepare_data import collect_by_players\n",
        "    from prepare_data import pad_or_truncate_keypoints\n",
        "    from prepare_data import extract_player_id\n",
        "    print(\"Importação bem-sucedida.\")\n",
        "except ImportError as e:\n",
        "    print(\"Erro ao importar função:\", e)\n",
        "\n",
        "\n",
        "\n",
        "\n"
      ],
      "metadata": {
        "colab": {
          "base_uri": "https://localhost:8080/"
        },
        "id": "XKSs2FkWoFD6",
        "outputId": "3b6ca381-997c-4955-cd6e-961e53d18c79"
      },
      "execution_count": 4,
      "outputs": [
        {
          "output_type": "stream",
          "name": "stdout",
          "text": [
            "Pasta 'dataset' removida.\n",
            "Clone e checkout parcial concluídos.\n",
            "prepare_data.py movido para a pasta 'dataset'.\n",
            "Importação bem-sucedida: collect_by_players disponível.\n"
          ]
        }
      ]
    },
    {
      "cell_type": "code",
      "execution_count": 5,
      "metadata": {
        "collapsed": true,
        "id": "JVJwkVEpqVI0"
      },
      "outputs": [],
      "source": [
        "import os\n",
        "import cv2\n",
        "import torch\n",
        "import numpy as np\n",
        "from tqdm import tqdm\n",
        "from collections import defaultdict\n",
        "from sklearn.model_selection import train_test_split\n",
        "import random\n",
        "import pickle\n",
        "\n",
        "# from prepare_data import pad_or_truncate_keypoints\n",
        "# from prepare_data import extract_player_id\n"
      ]
    },
    {
      "cell_type": "code",
      "source": [
        "!pip uninstall -y mediapipe-silicon\n",
        "!pip uninstall -y mediapipe\n",
        "!pip uninstall -y protobuf\n",
        "!pip install protobuf==3.20.3  # Specific version that often works well with MediaPipe\n",
        "!pip install mediapipe"
      ],
      "metadata": {
        "colab": {
          "base_uri": "https://localhost:8080/",
          "height": 1000
        },
        "collapsed": true,
        "id": "vH6Bd75BvpqR",
        "outputId": "7c6e1d28-6470-410c-adfc-8128f38d9485"
      },
      "execution_count": 6,
      "outputs": [
        {
          "output_type": "stream",
          "name": "stdout",
          "text": [
            "\u001b[33mWARNING: Skipping mediapipe-silicon as it is not installed.\u001b[0m\u001b[33m\n",
            "\u001b[0mFound existing installation: mediapipe 0.10.21\n",
            "Uninstalling mediapipe-0.10.21:\n",
            "  Successfully uninstalled mediapipe-0.10.21\n",
            "Found existing installation: protobuf 4.25.7\n",
            "Uninstalling protobuf-4.25.7:\n",
            "  Successfully uninstalled protobuf-4.25.7\n",
            "Collecting protobuf==3.20.3\n",
            "  Using cached protobuf-3.20.3-py2.py3-none-any.whl.metadata (720 bytes)\n",
            "Using cached protobuf-3.20.3-py2.py3-none-any.whl (162 kB)\n",
            "Installing collected packages: protobuf\n",
            "\u001b[31mERROR: pip's dependency resolver does not currently take into account all the packages that are installed. This behaviour is the source of the following dependency conflicts.\n",
            "tensorflow-metadata 1.17.1 requires protobuf<6.0.0,>=4.25.2; python_version >= \"3.11\", but you have protobuf 3.20.3 which is incompatible.\n",
            "grpcio-status 1.71.0 requires protobuf<6.0dev,>=5.26.1, but you have protobuf 3.20.3 which is incompatible.\n",
            "ydf 0.11.0 requires protobuf<6.0.0,>=5.29.1, but you have protobuf 3.20.3 which is incompatible.\u001b[0m\u001b[31m\n",
            "\u001b[0mSuccessfully installed protobuf-3.20.3\n"
          ]
        },
        {
          "output_type": "display_data",
          "data": {
            "application/vnd.colab-display-data+json": {
              "pip_warning": {
                "packages": [
                  "google"
                ]
              },
              "id": "e665902848744f2a8af219ab1ca4dad7"
            }
          },
          "metadata": {}
        },
        {
          "output_type": "stream",
          "name": "stdout",
          "text": [
            "Collecting mediapipe\n",
            "  Using cached mediapipe-0.10.21-cp311-cp311-manylinux_2_28_x86_64.whl.metadata (9.7 kB)\n",
            "Requirement already satisfied: absl-py in /usr/local/lib/python3.11/dist-packages (from mediapipe) (1.4.0)\n",
            "Requirement already satisfied: attrs>=19.1.0 in /usr/local/lib/python3.11/dist-packages (from mediapipe) (25.3.0)\n",
            "Requirement already satisfied: flatbuffers>=2.0 in /usr/local/lib/python3.11/dist-packages (from mediapipe) (25.2.10)\n",
            "Requirement already satisfied: jax in /usr/local/lib/python3.11/dist-packages (from mediapipe) (0.5.2)\n",
            "Requirement already satisfied: jaxlib in /usr/local/lib/python3.11/dist-packages (from mediapipe) (0.5.1)\n",
            "Requirement already satisfied: matplotlib in /usr/local/lib/python3.11/dist-packages (from mediapipe) (3.10.0)\n",
            "Requirement already satisfied: numpy<2 in /usr/local/lib/python3.11/dist-packages (from mediapipe) (1.26.4)\n",
            "Requirement already satisfied: opencv-contrib-python in /usr/local/lib/python3.11/dist-packages (from mediapipe) (4.11.0.86)\n",
            "Collecting protobuf<5,>=4.25.3 (from mediapipe)\n",
            "  Using cached protobuf-4.25.7-cp37-abi3-manylinux2014_x86_64.whl.metadata (541 bytes)\n",
            "Requirement already satisfied: sounddevice>=0.4.4 in /usr/local/lib/python3.11/dist-packages (from mediapipe) (0.5.1)\n",
            "Requirement already satisfied: sentencepiece in /usr/local/lib/python3.11/dist-packages (from mediapipe) (0.2.0)\n",
            "Requirement already satisfied: CFFI>=1.0 in /usr/local/lib/python3.11/dist-packages (from sounddevice>=0.4.4->mediapipe) (1.17.1)\n",
            "Requirement already satisfied: ml_dtypes>=0.4.0 in /usr/local/lib/python3.11/dist-packages (from jax->mediapipe) (0.4.1)\n",
            "Requirement already satisfied: opt_einsum in /usr/local/lib/python3.11/dist-packages (from jax->mediapipe) (3.4.0)\n",
            "Requirement already satisfied: scipy>=1.11.1 in /usr/local/lib/python3.11/dist-packages (from jax->mediapipe) (1.15.2)\n",
            "Requirement already satisfied: contourpy>=1.0.1 in /usr/local/lib/python3.11/dist-packages (from matplotlib->mediapipe) (1.3.2)\n",
            "Requirement already satisfied: cycler>=0.10 in /usr/local/lib/python3.11/dist-packages (from matplotlib->mediapipe) (0.12.1)\n",
            "Requirement already satisfied: fonttools>=4.22.0 in /usr/local/lib/python3.11/dist-packages (from matplotlib->mediapipe) (4.57.0)\n",
            "Requirement already satisfied: kiwisolver>=1.3.1 in /usr/local/lib/python3.11/dist-packages (from matplotlib->mediapipe) (1.4.8)\n",
            "Requirement already satisfied: packaging>=20.0 in /usr/local/lib/python3.11/dist-packages (from matplotlib->mediapipe) (24.2)\n",
            "Requirement already satisfied: pillow>=8 in /usr/local/lib/python3.11/dist-packages (from matplotlib->mediapipe) (11.2.1)\n",
            "Requirement already satisfied: pyparsing>=2.3.1 in /usr/local/lib/python3.11/dist-packages (from matplotlib->mediapipe) (3.2.3)\n",
            "Requirement already satisfied: python-dateutil>=2.7 in /usr/local/lib/python3.11/dist-packages (from matplotlib->mediapipe) (2.9.0.post0)\n",
            "Requirement already satisfied: pycparser in /usr/local/lib/python3.11/dist-packages (from CFFI>=1.0->sounddevice>=0.4.4->mediapipe) (2.22)\n",
            "Requirement already satisfied: six>=1.5 in /usr/local/lib/python3.11/dist-packages (from python-dateutil>=2.7->matplotlib->mediapipe) (1.17.0)\n",
            "Using cached mediapipe-0.10.21-cp311-cp311-manylinux_2_28_x86_64.whl (35.6 MB)\n",
            "Using cached protobuf-4.25.7-cp37-abi3-manylinux2014_x86_64.whl (294 kB)\n",
            "Installing collected packages: protobuf, mediapipe\n",
            "  Attempting uninstall: protobuf\n",
            "    Found existing installation: protobuf 3.20.3\n",
            "    Uninstalling protobuf-3.20.3:\n",
            "      Successfully uninstalled protobuf-3.20.3\n",
            "\u001b[31mERROR: pip's dependency resolver does not currently take into account all the packages that are installed. This behaviour is the source of the following dependency conflicts.\n",
            "grpcio-status 1.71.0 requires protobuf<6.0dev,>=5.26.1, but you have protobuf 4.25.7 which is incompatible.\n",
            "ydf 0.11.0 requires protobuf<6.0.0,>=5.29.1, but you have protobuf 4.25.7 which is incompatible.\u001b[0m\u001b[31m\n",
            "\u001b[0mSuccessfully installed mediapipe-0.10.21 protobuf-4.25.7\n"
          ]
        }
      ]
    },
    {
      "cell_type": "code",
      "source": [
        "import mediapipe as mp\n"
      ],
      "metadata": {
        "id": "aeZtH0LdvfS7"
      },
      "execution_count": 7,
      "outputs": []
    },
    {
      "cell_type": "code",
      "source": [
        "%cd dataset\n",
        "!python prepare_data.py"
      ],
      "metadata": {
        "colab": {
          "base_uri": "https://localhost:8080/"
        },
        "id": "FdHfOrr3azB6",
        "outputId": "7cc2486a-c18f-479b-d803-302ac31049b8"
      },
      "execution_count": 9,
      "outputs": [
        {
          "output_type": "stream",
          "name": "stdout",
          "text": [
            "/content/dataset\n",
            "CUDA available: True\n",
            "Device name: Tesla T4\n",
            "['backhand_slice', 'forehand_openstands', 'forehand_flat', 'kick_service', 'flat_service', 'backhand_volley', 'backhand', 'smash', 'slice_service', 'forehand_slice', 'forehand_volley', 'backhand2hands']\n",
            "Fim da execução do prepare_data.py\n"
          ]
        }
      ]
    },
    {
      "cell_type": "code",
      "source": [
        "\n",
        "#extract the keypoints AND pad/truncate\n",
        "\n",
        "root_dir = \"npy_videos\"\n",
        "\n",
        "mp_pose = mp.solutions.pose\n",
        "pose = mp_pose.Pose(static_image_mode=False) # This allows MediaPipe to track pose across frames, potentially leading to more stable and accurate keypoint estimations.\n",
        "\n",
        "all_keypoints = {}\n",
        "\n",
        "# Top-level loop with a single progress bar\n",
        "action_folders = sorted([d for d in os.listdir(root_dir) if os.path.isdir(os.path.join(root_dir, d))])\n",
        "for action_folder in tqdm(action_folders, desc=\"Processing actions\"):\n",
        "    action_path = os.path.join(root_dir, action_folder)\n",
        "    all_keypoints[action_folder] = {}\n",
        "\n",
        "    video_files = sorted([f for f in os.listdir(action_path) if f.endswith(\".npy\")])\n",
        "    for video_file in video_files:  # No tqdm here\n",
        "        video_path = os.path.join(action_path, video_file)\n",
        "        try:\n",
        "            sample = np.load(video_path)\n",
        "            video_keypoints = []\n",
        "\n",
        "            for frame in sample:\n",
        "                frame_rgb = cv2.cvtColor(frame, cv2.COLOR_BGR2RGB)\n",
        "                results = pose.process(frame_rgb)\n",
        "\n",
        "                if results.pose_landmarks:\n",
        "                    keypoints = [[lm.x, lm.y, lm.z] for lm in results.pose_landmarks.landmark]\n",
        "                else:\n",
        "                    keypoints = np.zeros((33, 3)).tolist()\n",
        "\n",
        "                video_keypoints.append(keypoints)\n",
        "\n",
        "            video_keypoints = np.array(video_keypoints)\n",
        "            video_keypoints = pad_or_truncate_keypoints(video_keypoints, target_length=120)\n",
        "            all_keypoints[action_folder][video_file] = video_keypoints\n",
        "\n",
        "\n",
        "\n",
        "\n",
        "\n",
        "        except Exception as e:\n",
        "            pass  # Suppress per-video error printing for a clean log\n",
        "\n",
        "# Final summary\n",
        "print(\"\\n Summary of extracted keypoints:\")\n",
        "for action, videos in all_keypoints.items():\n",
        "    print(f\"- {action}: {len(videos)} videos processed.\")\n",
        "\n",
        "# Jsut to see the calues for the first one\n",
        "first_action = list(all_keypoints.keys())[0]\n",
        "first_video = list(all_keypoints[first_action].keys())[0]\n",
        "print(f\"Keypoints for the first frame of {first_video} in {first_action}:\")\n",
        "print(all_keypoints[first_action][first_video][0])\n"
      ],
      "metadata": {
        "colab": {
          "base_uri": "https://localhost:8080/"
        },
        "collapsed": true,
        "id": "9DvBd7_WbBg9",
        "outputId": "c4b7f869-ddb8-4d37-c486-34416a07a2f7"
      },
      "execution_count": 10,
      "outputs": [
        {
          "output_type": "stream",
          "name": "stderr",
          "text": [
            "Processing actions: 100%|██████████| 12/12 [23:00<00:00, 115.04s/it]"
          ]
        },
        {
          "output_type": "stream",
          "name": "stdout",
          "text": [
            "\n",
            " Summary of extracted keypoints:\n",
            "- backhand: 97 videos processed.\n",
            "- backhand2hands: 107 videos processed.\n",
            "- backhand_slice: 100 videos processed.\n",
            "- backhand_volley: 103 videos processed.\n",
            "- flat_service: 96 videos processed.\n",
            "- forehand_flat: 110 videos processed.\n",
            "- forehand_openstands: 101 videos processed.\n",
            "- forehand_slice: 97 videos processed.\n",
            "- forehand_volley: 93 videos processed.\n",
            "- kick_service: 109 videos processed.\n",
            "- slice_service: 100 videos processed.\n",
            "- smash: 104 videos processed.\n",
            "Keypoints for the first frame of p10_backhand_skelet3D_s2.npy in backhand:\n",
            "[[0. 0. 0.]\n",
            " [0. 0. 0.]\n",
            " [0. 0. 0.]\n",
            " [0. 0. 0.]\n",
            " [0. 0. 0.]\n",
            " [0. 0. 0.]\n",
            " [0. 0. 0.]\n",
            " [0. 0. 0.]\n",
            " [0. 0. 0.]\n",
            " [0. 0. 0.]\n",
            " [0. 0. 0.]\n",
            " [0. 0. 0.]\n",
            " [0. 0. 0.]\n",
            " [0. 0. 0.]\n",
            " [0. 0. 0.]\n",
            " [0. 0. 0.]\n",
            " [0. 0. 0.]\n",
            " [0. 0. 0.]\n",
            " [0. 0. 0.]\n",
            " [0. 0. 0.]\n",
            " [0. 0. 0.]\n",
            " [0. 0. 0.]\n",
            " [0. 0. 0.]\n",
            " [0. 0. 0.]\n",
            " [0. 0. 0.]\n",
            " [0. 0. 0.]\n",
            " [0. 0. 0.]\n",
            " [0. 0. 0.]\n",
            " [0. 0. 0.]\n",
            " [0. 0. 0.]\n",
            " [0. 0. 0.]\n",
            " [0. 0. 0.]\n",
            " [0. 0. 0.]]\n",
            "Train: 850, Val: 177, Test: 190\n"
          ]
        },
        {
          "output_type": "stream",
          "name": "stderr",
          "text": [
            "\n"
          ]
        }
      ]
    },
    {
      "cell_type": "code",
      "source": [
        "#Organize videos by player and split player IDs\n",
        "\n",
        "# Organize videos by player\n",
        "player_video_map = defaultdict(list)\n",
        "for action, videos in all_keypoints.items():\n",
        "    for video_file in videos:\n",
        "        player_id = extract_player_id(video_file)\n",
        "        player_video_map[player_id].append((action, video_file))\n",
        "\n",
        "# Split player IDs\n",
        "players = list(player_video_map.keys())\n",
        "random.shuffle(players)\n",
        "\n",
        "train_end = int(len(players) * 0.7)\n",
        "val_end = int(len(players) * 0.85)\n",
        "\n",
        "train_players = players[:train_end]\n",
        "val_players = players[train_end:val_end]\n",
        "test_players = players[val_end:]\n",
        "\n",
        "train_set = collect_by_players(train_players, player_video_map, all_keypoints)\n",
        "val_set = collect_by_players(val_players,  player_video_map, all_keypoints)\n",
        "test_set = collect_by_players(test_players,  player_video_map, all_keypoints)\n",
        "\n",
        "print(f\"Train: {len(train_set)}, Val: {len(val_set)}, Test: {len(test_set)}\")"
      ],
      "metadata": {
        "id": "ic4XG4QWFKZ6"
      },
      "execution_count": null,
      "outputs": []
    },
    {
      "cell_type": "code",
      "source": [],
      "metadata": {
        "id": "VGN-GbyDFOH1"
      },
      "execution_count": null,
      "outputs": []
    }
  ]
}